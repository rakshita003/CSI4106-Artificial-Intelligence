{
  "cells": [
    {
      "cell_type": "markdown",
      "metadata": {
        "id": "SPeulvp-meob"
      },
      "source": [
        "**ASSIGNMENT 1 - EMPIRICAL STUDY OF KNAPSACK PROBLEM**"
      ]
    },
    {
      "cell_type": "markdown",
      "metadata": {
        "id": "f2Eeke4Z_EkW"
      },
      "source": [
        "**1. Group Description**\n",
        "\n",
        "- Group Number: 111\n",
        "- Member 1\n",
        "  - Student Name: Meet Mehta\n",
        "  - Student Number: 300261159\n",
        "- Member 2\n",
        "  - Student Name: Rakshita Mathur\n",
        "  - Student Number: 300215340\n"
      ]
    },
    {
      "cell_type": "markdown",
      "metadata": {
        "id": "Yq6OGiMX_da0"
      },
      "source": [
        "**2. Knapsack Problem**\n",
        "\n",
        "The Knapsack Problem is a classic optimization problem where you must select a subset of items, each with a weight and value, to maximize the total value while not exceeding a given weight capacity. In thisAssignment we will be exploring the same with following approches:\n",
        "1. `Generate and Test`: Try all possible combinations of items and choose the one with the maximum value without exceeding the capacity.\n",
        "2. `Greedy Algorithm`:\n",
        "   Select items based on their value-to-weight ratio, adding the highest ratio items until the capacity is reached.\n",
        "3. `Simulated Annealing`:\n",
        "   Use a probabilistic approach to iteratively explore and accept worse solutions with decreasing probability, eventually converging towards an optimal solution.\n",
        "4. `Genetic Algorithm`:\n",
        "   Represent solutions as individuals in a population, apply selection, crossover, and mutation operations to evolve better solutions over generations."
      ]
    },
    {
      "cell_type": "markdown",
      "metadata": {
        "id": "C8vwHE0G_iOG"
      },
      "source": [
        "**3. Dataset**\n",
        "\n",
        "The dataset provided here is related to the Knapsack Problem. It consists of several instances, each with the following components:\n",
        "\n",
        "1. `Weights`: An array of weights representing the weights of individual items.\n",
        "2. `Prices`: An array of prices or values corresponding to the value of each item.\n",
        "3. `Capacity`: The weight capacity or maximum weight that the knapsack can hold.\n",
        "4. `Best Picks`: An array of binary values (0s and 1s) indicating which items are selected (1) or not selected (0) as the optimal solution for the given instance.\n",
        "5. `Best Price`: The total value or price of the selected items in the optimal solution.\n",
        "\n",
        "Each row in the dataset likely represents a different Knapsack Problem instance with varying weights, values, and capacities, and the \"Best Picks\" and \"Best Price\" columns provide the optimal solution for each instance.\n",
        "\n",
        "[`Dataset`](https://www.kaggle.com/datasets/warcoder/knapsack-problem)"
      ]
    },
    {
      "cell_type": "markdown",
      "metadata": {
        "id": "OZTWy1qN2BzY"
      },
      "source": [
        "**Import important libraries**"
      ]
    },
    {
      "cell_type": "code",
      "execution_count": null,
      "metadata": {
        "id": "GmP1buROhaOx"
      },
      "outputs": [],
      "source": [
        "import pandas as pd\n",
        "import itertools\n",
        "import numpy as np"
      ]
    },
    {
      "cell_type": "markdown",
      "metadata": {
        "id": "wNJyoeCz00Kr"
      },
      "source": [
        "**Read Dataset**\n",
        "\n"
      ]
    },
    {
      "cell_type": "code",
      "execution_count": null,
      "metadata": {
        "id": "BrhpM-HwhaOy"
      },
      "outputs": [],
      "source": [
        "# importing the dataset\n",
        "\n",
        "url = \"https://raw.githubusercontent.com/rakshita003/Datasets/main/Kanpsack.csv\"\n",
        "\n",
        "dataset = pd.read_csv(url)"
      ]
    },
    {
      "cell_type": "code",
      "execution_count": null,
      "metadata": {
        "colab": {
          "base_uri": "https://localhost:8080/"
        },
        "id": "pGxZXmhNhaOz",
        "outputId": "da7ec9b8-3886-4597-c524-f6880ddc2cb4"
      },
      "outputs": [
        {
          "data": {
            "text/plain": [
              "Index(['Weights', 'Prices', 'Capacity', 'Best picks', 'Best price'], dtype='object')"
            ]
          },
          "execution_count": 3,
          "metadata": {},
          "output_type": "execute_result"
        }
      ],
      "source": [
        "# looking at the columns of the Dataset\n",
        "\n",
        "dataset.columns"
      ]
    },
    {
      "cell_type": "code",
      "execution_count": null,
      "metadata": {
        "colab": {
          "base_uri": "https://localhost:8080/",
          "height": 363
        },
        "id": "0xqfPrBEhaOz",
        "outputId": "9f3cc6a9-40b5-4ce2-85ed-ac712ac6aea4"
      },
      "outputs": [
        {
          "data": {
            "text/html": [
              "\n",
              "  <div id=\"df-b506a72c-8746-4996-b323-586a9e64be30\" class=\"colab-df-container\">\n",
              "    <div>\n",
              "<style scoped>\n",
              "    .dataframe tbody tr th:only-of-type {\n",
              "        vertical-align: middle;\n",
              "    }\n",
              "\n",
              "    .dataframe tbody tr th {\n",
              "        vertical-align: top;\n",
              "    }\n",
              "\n",
              "    .dataframe thead th {\n",
              "        text-align: right;\n",
              "    }\n",
              "</style>\n",
              "<table border=\"1\" class=\"dataframe\">\n",
              "  <thead>\n",
              "    <tr style=\"text-align: right;\">\n",
              "      <th></th>\n",
              "      <th>Weights</th>\n",
              "      <th>Prices</th>\n",
              "      <th>Capacity</th>\n",
              "      <th>Best picks</th>\n",
              "      <th>Best price</th>\n",
              "    </tr>\n",
              "  </thead>\n",
              "  <tbody>\n",
              "    <tr>\n",
              "      <th>0</th>\n",
              "      <td>[46 40 42 38 10]</td>\n",
              "      <td>[12 19 19 15  8]</td>\n",
              "      <td>40</td>\n",
              "      <td>[0. 1. 0. 0. 0.]</td>\n",
              "      <td>19.0</td>\n",
              "    </tr>\n",
              "    <tr>\n",
              "      <th>1</th>\n",
              "      <td>[11 31  4  6  7]</td>\n",
              "      <td>[ 2  8 18 16  3]</td>\n",
              "      <td>64</td>\n",
              "      <td>[1. 1. 1. 1. 1.]</td>\n",
              "      <td>47.0</td>\n",
              "    </tr>\n",
              "    <tr>\n",
              "      <th>2</th>\n",
              "      <td>[32 49 27 37 24]</td>\n",
              "      <td>[19 16 16  4  1]</td>\n",
              "      <td>87</td>\n",
              "      <td>[1. 0. 1. 0. 1.]</td>\n",
              "      <td>36.0</td>\n",
              "    </tr>\n",
              "    <tr>\n",
              "      <th>3</th>\n",
              "      <td>[20 35 22 23 16]</td>\n",
              "      <td>[19 17 19  9  1]</td>\n",
              "      <td>21</td>\n",
              "      <td>[1. 0. 0. 0. 0.]</td>\n",
              "      <td>19.0</td>\n",
              "    </tr>\n",
              "    <tr>\n",
              "      <th>4</th>\n",
              "      <td>[ 7 12 19 13 20]</td>\n",
              "      <td>[10 11 18 15  5]</td>\n",
              "      <td>50</td>\n",
              "      <td>[0. 1. 1. 1. 0.]</td>\n",
              "      <td>44.0</td>\n",
              "    </tr>\n",
              "    <tr>\n",
              "      <th>5</th>\n",
              "      <td>[27 10 25 25  7]</td>\n",
              "      <td>[13 19  7 16  3]</td>\n",
              "      <td>66</td>\n",
              "      <td>[1. 1. 0. 1. 0.]</td>\n",
              "      <td>48.0</td>\n",
              "    </tr>\n",
              "    <tr>\n",
              "      <th>6</th>\n",
              "      <td>[21  2 33 45 26]</td>\n",
              "      <td>[ 1 14 10  6 13]</td>\n",
              "      <td>80</td>\n",
              "      <td>[0. 1. 1. 0. 1.]</td>\n",
              "      <td>37.0</td>\n",
              "    </tr>\n",
              "    <tr>\n",
              "      <th>7</th>\n",
              "      <td>[37 27 39 14 25]</td>\n",
              "      <td>[18  7 15  4 13]</td>\n",
              "      <td>35</td>\n",
              "      <td>[0. 0. 0. 0. 1.]</td>\n",
              "      <td>13.0</td>\n",
              "    </tr>\n",
              "    <tr>\n",
              "      <th>8</th>\n",
              "      <td>[ 1 48  4 23 39]</td>\n",
              "      <td>[ 9  4 10 16 12]</td>\n",
              "      <td>51</td>\n",
              "      <td>[1. 0. 1. 1. 0.]</td>\n",
              "      <td>35.0</td>\n",
              "    </tr>\n",
              "    <tr>\n",
              "      <th>9</th>\n",
              "      <td>[ 4  3 22  9 32]</td>\n",
              "      <td>[14  6  3 17  8]</td>\n",
              "      <td>53</td>\n",
              "      <td>[1. 1. 0. 1. 1.]</td>\n",
              "      <td>45.0</td>\n",
              "    </tr>\n",
              "  </tbody>\n",
              "</table>\n",
              "</div>\n",
              "    <div class=\"colab-df-buttons\">\n",
              "\n",
              "  <div class=\"colab-df-container\">\n",
              "    <button class=\"colab-df-convert\" onclick=\"convertToInteractive('df-b506a72c-8746-4996-b323-586a9e64be30')\"\n",
              "            title=\"Convert this dataframe to an interactive table.\"\n",
              "            style=\"display:none;\">\n",
              "\n",
              "  <svg xmlns=\"http://www.w3.org/2000/svg\" height=\"24px\" viewBox=\"0 -960 960 960\">\n",
              "    <path d=\"M120-120v-720h720v720H120Zm60-500h600v-160H180v160Zm220 220h160v-160H400v160Zm0 220h160v-160H400v160ZM180-400h160v-160H180v160Zm440 0h160v-160H620v160ZM180-180h160v-160H180v160Zm440 0h160v-160H620v160Z\"/>\n",
              "  </svg>\n",
              "    </button>\n",
              "\n",
              "  <style>\n",
              "    .colab-df-container {\n",
              "      display:flex;\n",
              "      gap: 12px;\n",
              "    }\n",
              "\n",
              "    .colab-df-convert {\n",
              "      background-color: #E8F0FE;\n",
              "      border: none;\n",
              "      border-radius: 50%;\n",
              "      cursor: pointer;\n",
              "      display: none;\n",
              "      fill: #1967D2;\n",
              "      height: 32px;\n",
              "      padding: 0 0 0 0;\n",
              "      width: 32px;\n",
              "    }\n",
              "\n",
              "    .colab-df-convert:hover {\n",
              "      background-color: #E2EBFA;\n",
              "      box-shadow: 0px 1px 2px rgba(60, 64, 67, 0.3), 0px 1px 3px 1px rgba(60, 64, 67, 0.15);\n",
              "      fill: #174EA6;\n",
              "    }\n",
              "\n",
              "    .colab-df-buttons div {\n",
              "      margin-bottom: 4px;\n",
              "    }\n",
              "\n",
              "    [theme=dark] .colab-df-convert {\n",
              "      background-color: #3B4455;\n",
              "      fill: #D2E3FC;\n",
              "    }\n",
              "\n",
              "    [theme=dark] .colab-df-convert:hover {\n",
              "      background-color: #434B5C;\n",
              "      box-shadow: 0px 1px 3px 1px rgba(0, 0, 0, 0.15);\n",
              "      filter: drop-shadow(0px 1px 2px rgba(0, 0, 0, 0.3));\n",
              "      fill: #FFFFFF;\n",
              "    }\n",
              "  </style>\n",
              "\n",
              "    <script>\n",
              "      const buttonEl =\n",
              "        document.querySelector('#df-b506a72c-8746-4996-b323-586a9e64be30 button.colab-df-convert');\n",
              "      buttonEl.style.display =\n",
              "        google.colab.kernel.accessAllowed ? 'block' : 'none';\n",
              "\n",
              "      async function convertToInteractive(key) {\n",
              "        const element = document.querySelector('#df-b506a72c-8746-4996-b323-586a9e64be30');\n",
              "        const dataTable =\n",
              "          await google.colab.kernel.invokeFunction('convertToInteractive',\n",
              "                                                    [key], {});\n",
              "        if (!dataTable) return;\n",
              "\n",
              "        const docLinkHtml = 'Like what you see? Visit the ' +\n",
              "          '<a target=\"_blank\" href=https://colab.research.google.com/notebooks/data_table.ipynb>data table notebook</a>'\n",
              "          + ' to learn more about interactive tables.';\n",
              "        element.innerHTML = '';\n",
              "        dataTable['output_type'] = 'display_data';\n",
              "        await google.colab.output.renderOutput(dataTable, element);\n",
              "        const docLink = document.createElement('div');\n",
              "        docLink.innerHTML = docLinkHtml;\n",
              "        element.appendChild(docLink);\n",
              "      }\n",
              "    </script>\n",
              "  </div>\n",
              "\n",
              "\n",
              "<div id=\"df-56c3360a-71b7-4e1a-be39-7c39938933c7\">\n",
              "  <button class=\"colab-df-quickchart\" onclick=\"quickchart('df-56c3360a-71b7-4e1a-be39-7c39938933c7')\"\n",
              "            title=\"Suggest charts.\"\n",
              "            style=\"display:none;\">\n",
              "\n",
              "<svg xmlns=\"http://www.w3.org/2000/svg\" height=\"24px\"viewBox=\"0 0 24 24\"\n",
              "     width=\"24px\">\n",
              "    <g>\n",
              "        <path d=\"M19 3H5c-1.1 0-2 .9-2 2v14c0 1.1.9 2 2 2h14c1.1 0 2-.9 2-2V5c0-1.1-.9-2-2-2zM9 17H7v-7h2v7zm4 0h-2V7h2v10zm4 0h-2v-4h2v4z\"/>\n",
              "    </g>\n",
              "</svg>\n",
              "  </button>\n",
              "\n",
              "<style>\n",
              "  .colab-df-quickchart {\n",
              "      --bg-color: #E8F0FE;\n",
              "      --fill-color: #1967D2;\n",
              "      --hover-bg-color: #E2EBFA;\n",
              "      --hover-fill-color: #174EA6;\n",
              "      --disabled-fill-color: #AAA;\n",
              "      --disabled-bg-color: #DDD;\n",
              "  }\n",
              "\n",
              "  [theme=dark] .colab-df-quickchart {\n",
              "      --bg-color: #3B4455;\n",
              "      --fill-color: #D2E3FC;\n",
              "      --hover-bg-color: #434B5C;\n",
              "      --hover-fill-color: #FFFFFF;\n",
              "      --disabled-bg-color: #3B4455;\n",
              "      --disabled-fill-color: #666;\n",
              "  }\n",
              "\n",
              "  .colab-df-quickchart {\n",
              "    background-color: var(--bg-color);\n",
              "    border: none;\n",
              "    border-radius: 50%;\n",
              "    cursor: pointer;\n",
              "    display: none;\n",
              "    fill: var(--fill-color);\n",
              "    height: 32px;\n",
              "    padding: 0;\n",
              "    width: 32px;\n",
              "  }\n",
              "\n",
              "  .colab-df-quickchart:hover {\n",
              "    background-color: var(--hover-bg-color);\n",
              "    box-shadow: 0 1px 2px rgba(60, 64, 67, 0.3), 0 1px 3px 1px rgba(60, 64, 67, 0.15);\n",
              "    fill: var(--button-hover-fill-color);\n",
              "  }\n",
              "\n",
              "  .colab-df-quickchart-complete:disabled,\n",
              "  .colab-df-quickchart-complete:disabled:hover {\n",
              "    background-color: var(--disabled-bg-color);\n",
              "    fill: var(--disabled-fill-color);\n",
              "    box-shadow: none;\n",
              "  }\n",
              "\n",
              "  .colab-df-spinner {\n",
              "    border: 2px solid var(--fill-color);\n",
              "    border-color: transparent;\n",
              "    border-bottom-color: var(--fill-color);\n",
              "    animation:\n",
              "      spin 1s steps(1) infinite;\n",
              "  }\n",
              "\n",
              "  @keyframes spin {\n",
              "    0% {\n",
              "      border-color: transparent;\n",
              "      border-bottom-color: var(--fill-color);\n",
              "      border-left-color: var(--fill-color);\n",
              "    }\n",
              "    20% {\n",
              "      border-color: transparent;\n",
              "      border-left-color: var(--fill-color);\n",
              "      border-top-color: var(--fill-color);\n",
              "    }\n",
              "    30% {\n",
              "      border-color: transparent;\n",
              "      border-left-color: var(--fill-color);\n",
              "      border-top-color: var(--fill-color);\n",
              "      border-right-color: var(--fill-color);\n",
              "    }\n",
              "    40% {\n",
              "      border-color: transparent;\n",
              "      border-right-color: var(--fill-color);\n",
              "      border-top-color: var(--fill-color);\n",
              "    }\n",
              "    60% {\n",
              "      border-color: transparent;\n",
              "      border-right-color: var(--fill-color);\n",
              "    }\n",
              "    80% {\n",
              "      border-color: transparent;\n",
              "      border-right-color: var(--fill-color);\n",
              "      border-bottom-color: var(--fill-color);\n",
              "    }\n",
              "    90% {\n",
              "      border-color: transparent;\n",
              "      border-bottom-color: var(--fill-color);\n",
              "    }\n",
              "  }\n",
              "</style>\n",
              "\n",
              "  <script>\n",
              "    async function quickchart(key) {\n",
              "      const quickchartButtonEl =\n",
              "        document.querySelector('#' + key + ' button');\n",
              "      quickchartButtonEl.disabled = true;  // To prevent multiple clicks.\n",
              "      quickchartButtonEl.classList.add('colab-df-spinner');\n",
              "      try {\n",
              "        const charts = await google.colab.kernel.invokeFunction(\n",
              "            'suggestCharts', [key], {});\n",
              "      } catch (error) {\n",
              "        console.error('Error during call to suggestCharts:', error);\n",
              "      }\n",
              "      quickchartButtonEl.classList.remove('colab-df-spinner');\n",
              "      quickchartButtonEl.classList.add('colab-df-quickchart-complete');\n",
              "    }\n",
              "    (() => {\n",
              "      let quickchartButtonEl =\n",
              "        document.querySelector('#df-56c3360a-71b7-4e1a-be39-7c39938933c7 button');\n",
              "      quickchartButtonEl.style.display =\n",
              "        google.colab.kernel.accessAllowed ? 'block' : 'none';\n",
              "    })();\n",
              "  </script>\n",
              "</div>\n",
              "    </div>\n",
              "  </div>\n"
            ],
            "text/plain": [
              "            Weights            Prices  Capacity        Best picks  Best price\n",
              "0  [46 40 42 38 10]  [12 19 19 15  8]        40  [0. 1. 0. 0. 0.]        19.0\n",
              "1  [11 31  4  6  7]  [ 2  8 18 16  3]        64  [1. 1. 1. 1. 1.]        47.0\n",
              "2  [32 49 27 37 24]  [19 16 16  4  1]        87  [1. 0. 1. 0. 1.]        36.0\n",
              "3  [20 35 22 23 16]  [19 17 19  9  1]        21  [1. 0. 0. 0. 0.]        19.0\n",
              "4  [ 7 12 19 13 20]  [10 11 18 15  5]        50  [0. 1. 1. 1. 0.]        44.0\n",
              "5  [27 10 25 25  7]  [13 19  7 16  3]        66  [1. 1. 0. 1. 0.]        48.0\n",
              "6  [21  2 33 45 26]  [ 1 14 10  6 13]        80  [0. 1. 1. 0. 1.]        37.0\n",
              "7  [37 27 39 14 25]  [18  7 15  4 13]        35  [0. 0. 0. 0. 1.]        13.0\n",
              "8  [ 1 48  4 23 39]  [ 9  4 10 16 12]        51  [1. 0. 1. 1. 0.]        35.0\n",
              "9  [ 4  3 22  9 32]  [14  6  3 17  8]        53  [1. 1. 0. 1. 1.]        45.0"
            ]
          },
          "execution_count": 4,
          "metadata": {},
          "output_type": "execute_result"
        }
      ],
      "source": [
        "# looking at the first 10 rows of the dataset\n",
        "\n",
        "dataset.head(10)"
      ]
    },
    {
      "cell_type": "markdown",
      "metadata": {
        "id": "1dq9VpZh2r2A"
      },
      "source": [
        "**Preprocessing Step**\n",
        "\n",
        "Typically, the initial step in any project that involves reading and handling data is data preprocessing and cleansing.\n",
        "\n",
        "In our dataset, we expect the entries in the \"Weights,\" \"Prices,\" and \"Best Picks\" columns to be in the form of arrays of floats or integers, like this: [45, 40, 42, 38, 10]\n",
        "\n",
        "However, when you read each entry using pandas, they will be in a form of a string: \"[45 40 42 38 10]\"\n",
        "\n",
        "So we need to convert these strings into \"arrays of floats or integers.\" You can utilize the function provided below for this purpose:\n"
      ]
    },
    {
      "cell_type": "code",
      "execution_count": null,
      "metadata": {
        "id": "BmUtgrBchaOz"
      },
      "outputs": [],
      "source": [
        "def string_to_list(string):\n",
        "    # Check if the input is already a list\n",
        "    if isinstance(string, list):\n",
        "        return string\n",
        "\n",
        "    # Assuming the input is a string representation of a list, strip brackets and split by comma\n",
        "    string_list = string.strip('[]').split(',')\n",
        "\n",
        "    # Convert each element to a float\n",
        "    float_list = []\n",
        "    for element in string_list:\n",
        "        # Split by space and convert each part to float\n",
        "        sub_elements = element.split()\n",
        "        sub_floats = [float(sub_element) for sub_element in sub_elements]\n",
        "        float_list.extend(sub_floats)\n",
        "\n",
        "    return float_list\n"
      ]
    },
    {
      "cell_type": "markdown",
      "metadata": {
        "id": "CP1nkMb27A4n"
      },
      "source": [
        "Furthermore, it's possible that certain rows in the dataset contain empty values in specific columns. We also aim to eliminate these rows as they do not provide any useful information. We use dropna() function to do so:"
      ]
    },
    {
      "cell_type": "code",
      "execution_count": null,
      "metadata": {
        "colab": {
          "base_uri": "https://localhost:8080/"
        },
        "id": "LT_iYgxhhaO0",
        "outputId": "8134c8f3-dbe7-49bd-d4a3-98b61800e8c3",
        "scrolled": true
      },
      "outputs": [
        {
          "name": "stderr",
          "output_type": "stream",
          "text": [
            "<ipython-input-6-833fb421dc49>:5: SettingWithCopyWarning: \n",
            "A value is trying to be set on a copy of a slice from a DataFrame.\n",
            "Try using .loc[row_indexer,col_indexer] = value instead\n",
            "\n",
            "See the caveats in the documentation: https://pandas.pydata.org/pandas-docs/stable/user_guide/indexing.html#returning-a-view-versus-a-copy\n",
            "  dataset.Weights = dataset.Weights.apply(lambda x : string_to_list(x))\n",
            "<ipython-input-6-833fb421dc49>:6: SettingWithCopyWarning: \n",
            "A value is trying to be set on a copy of a slice from a DataFrame.\n",
            "Try using .loc[row_indexer,col_indexer] = value instead\n",
            "\n",
            "See the caveats in the documentation: https://pandas.pydata.org/pandas-docs/stable/user_guide/indexing.html#returning-a-view-versus-a-copy\n",
            "  dataset.Prices = dataset.Prices.apply(lambda x : string_to_list(x))\n",
            "<ipython-input-6-833fb421dc49>:7: SettingWithCopyWarning: \n",
            "A value is trying to be set on a copy of a slice from a DataFrame.\n",
            "Try using .loc[row_indexer,col_indexer] = value instead\n",
            "\n",
            "See the caveats in the documentation: https://pandas.pydata.org/pandas-docs/stable/user_guide/indexing.html#returning-a-view-versus-a-copy\n",
            "  dataset['Best picks'] = dataset['Best picks'].apply(lambda x : string_to_list(x))\n"
          ]
        }
      ],
      "source": [
        "#Ignore the warning messages.\n",
        "\n",
        "dataset = dataset.dropna()\n",
        "\n",
        "dataset.Weights = dataset.Weights.apply(lambda x : string_to_list(x))\n",
        "dataset.Prices = dataset.Prices.apply(lambda x : string_to_list(x))\n",
        "dataset['Best picks'] = dataset['Best picks'].apply(lambda x : string_to_list(x))"
      ]
    },
    {
      "cell_type": "code",
      "execution_count": null,
      "metadata": {
        "colab": {
          "base_uri": "https://localhost:8080/",
          "height": 206
        },
        "id": "hKzzEGrU6oQS",
        "outputId": "53ce1067-10c2-4903-83da-30475fb41635"
      },
      "outputs": [
        {
          "data": {
            "text/html": [
              "\n",
              "  <div id=\"df-2d28c7e4-20ae-415a-a51f-35761f913696\" class=\"colab-df-container\">\n",
              "    <div>\n",
              "<style scoped>\n",
              "    .dataframe tbody tr th:only-of-type {\n",
              "        vertical-align: middle;\n",
              "    }\n",
              "\n",
              "    .dataframe tbody tr th {\n",
              "        vertical-align: top;\n",
              "    }\n",
              "\n",
              "    .dataframe thead th {\n",
              "        text-align: right;\n",
              "    }\n",
              "</style>\n",
              "<table border=\"1\" class=\"dataframe\">\n",
              "  <thead>\n",
              "    <tr style=\"text-align: right;\">\n",
              "      <th></th>\n",
              "      <th>Weights</th>\n",
              "      <th>Prices</th>\n",
              "      <th>Capacity</th>\n",
              "      <th>Best picks</th>\n",
              "      <th>Best price</th>\n",
              "    </tr>\n",
              "  </thead>\n",
              "  <tbody>\n",
              "    <tr>\n",
              "      <th>0</th>\n",
              "      <td>[46.0, 40.0, 42.0, 38.0, 10.0]</td>\n",
              "      <td>[12.0, 19.0, 19.0, 15.0, 8.0]</td>\n",
              "      <td>40</td>\n",
              "      <td>[0.0, 1.0, 0.0, 0.0, 0.0]</td>\n",
              "      <td>19.0</td>\n",
              "    </tr>\n",
              "    <tr>\n",
              "      <th>1</th>\n",
              "      <td>[11.0, 31.0, 4.0, 6.0, 7.0]</td>\n",
              "      <td>[2.0, 8.0, 18.0, 16.0, 3.0]</td>\n",
              "      <td>64</td>\n",
              "      <td>[1.0, 1.0, 1.0, 1.0, 1.0]</td>\n",
              "      <td>47.0</td>\n",
              "    </tr>\n",
              "    <tr>\n",
              "      <th>2</th>\n",
              "      <td>[32.0, 49.0, 27.0, 37.0, 24.0]</td>\n",
              "      <td>[19.0, 16.0, 16.0, 4.0, 1.0]</td>\n",
              "      <td>87</td>\n",
              "      <td>[1.0, 0.0, 1.0, 0.0, 1.0]</td>\n",
              "      <td>36.0</td>\n",
              "    </tr>\n",
              "    <tr>\n",
              "      <th>3</th>\n",
              "      <td>[20.0, 35.0, 22.0, 23.0, 16.0]</td>\n",
              "      <td>[19.0, 17.0, 19.0, 9.0, 1.0]</td>\n",
              "      <td>21</td>\n",
              "      <td>[1.0, 0.0, 0.0, 0.0, 0.0]</td>\n",
              "      <td>19.0</td>\n",
              "    </tr>\n",
              "    <tr>\n",
              "      <th>4</th>\n",
              "      <td>[7.0, 12.0, 19.0, 13.0, 20.0]</td>\n",
              "      <td>[10.0, 11.0, 18.0, 15.0, 5.0]</td>\n",
              "      <td>50</td>\n",
              "      <td>[0.0, 1.0, 1.0, 1.0, 0.0]</td>\n",
              "      <td>44.0</td>\n",
              "    </tr>\n",
              "  </tbody>\n",
              "</table>\n",
              "</div>\n",
              "    <div class=\"colab-df-buttons\">\n",
              "\n",
              "  <div class=\"colab-df-container\">\n",
              "    <button class=\"colab-df-convert\" onclick=\"convertToInteractive('df-2d28c7e4-20ae-415a-a51f-35761f913696')\"\n",
              "            title=\"Convert this dataframe to an interactive table.\"\n",
              "            style=\"display:none;\">\n",
              "\n",
              "  <svg xmlns=\"http://www.w3.org/2000/svg\" height=\"24px\" viewBox=\"0 -960 960 960\">\n",
              "    <path d=\"M120-120v-720h720v720H120Zm60-500h600v-160H180v160Zm220 220h160v-160H400v160Zm0 220h160v-160H400v160ZM180-400h160v-160H180v160Zm440 0h160v-160H620v160ZM180-180h160v-160H180v160Zm440 0h160v-160H620v160Z\"/>\n",
              "  </svg>\n",
              "    </button>\n",
              "\n",
              "  <style>\n",
              "    .colab-df-container {\n",
              "      display:flex;\n",
              "      gap: 12px;\n",
              "    }\n",
              "\n",
              "    .colab-df-convert {\n",
              "      background-color: #E8F0FE;\n",
              "      border: none;\n",
              "      border-radius: 50%;\n",
              "      cursor: pointer;\n",
              "      display: none;\n",
              "      fill: #1967D2;\n",
              "      height: 32px;\n",
              "      padding: 0 0 0 0;\n",
              "      width: 32px;\n",
              "    }\n",
              "\n",
              "    .colab-df-convert:hover {\n",
              "      background-color: #E2EBFA;\n",
              "      box-shadow: 0px 1px 2px rgba(60, 64, 67, 0.3), 0px 1px 3px 1px rgba(60, 64, 67, 0.15);\n",
              "      fill: #174EA6;\n",
              "    }\n",
              "\n",
              "    .colab-df-buttons div {\n",
              "      margin-bottom: 4px;\n",
              "    }\n",
              "\n",
              "    [theme=dark] .colab-df-convert {\n",
              "      background-color: #3B4455;\n",
              "      fill: #D2E3FC;\n",
              "    }\n",
              "\n",
              "    [theme=dark] .colab-df-convert:hover {\n",
              "      background-color: #434B5C;\n",
              "      box-shadow: 0px 1px 3px 1px rgba(0, 0, 0, 0.15);\n",
              "      filter: drop-shadow(0px 1px 2px rgba(0, 0, 0, 0.3));\n",
              "      fill: #FFFFFF;\n",
              "    }\n",
              "  </style>\n",
              "\n",
              "    <script>\n",
              "      const buttonEl =\n",
              "        document.querySelector('#df-2d28c7e4-20ae-415a-a51f-35761f913696 button.colab-df-convert');\n",
              "      buttonEl.style.display =\n",
              "        google.colab.kernel.accessAllowed ? 'block' : 'none';\n",
              "\n",
              "      async function convertToInteractive(key) {\n",
              "        const element = document.querySelector('#df-2d28c7e4-20ae-415a-a51f-35761f913696');\n",
              "        const dataTable =\n",
              "          await google.colab.kernel.invokeFunction('convertToInteractive',\n",
              "                                                    [key], {});\n",
              "        if (!dataTable) return;\n",
              "\n",
              "        const docLinkHtml = 'Like what you see? Visit the ' +\n",
              "          '<a target=\"_blank\" href=https://colab.research.google.com/notebooks/data_table.ipynb>data table notebook</a>'\n",
              "          + ' to learn more about interactive tables.';\n",
              "        element.innerHTML = '';\n",
              "        dataTable['output_type'] = 'display_data';\n",
              "        await google.colab.output.renderOutput(dataTable, element);\n",
              "        const docLink = document.createElement('div');\n",
              "        docLink.innerHTML = docLinkHtml;\n",
              "        element.appendChild(docLink);\n",
              "      }\n",
              "    </script>\n",
              "  </div>\n",
              "\n",
              "\n",
              "<div id=\"df-67a857f7-bb86-4c97-8939-66f518ca4e98\">\n",
              "  <button class=\"colab-df-quickchart\" onclick=\"quickchart('df-67a857f7-bb86-4c97-8939-66f518ca4e98')\"\n",
              "            title=\"Suggest charts.\"\n",
              "            style=\"display:none;\">\n",
              "\n",
              "<svg xmlns=\"http://www.w3.org/2000/svg\" height=\"24px\"viewBox=\"0 0 24 24\"\n",
              "     width=\"24px\">\n",
              "    <g>\n",
              "        <path d=\"M19 3H5c-1.1 0-2 .9-2 2v14c0 1.1.9 2 2 2h14c1.1 0 2-.9 2-2V5c0-1.1-.9-2-2-2zM9 17H7v-7h2v7zm4 0h-2V7h2v10zm4 0h-2v-4h2v4z\"/>\n",
              "    </g>\n",
              "</svg>\n",
              "  </button>\n",
              "\n",
              "<style>\n",
              "  .colab-df-quickchart {\n",
              "      --bg-color: #E8F0FE;\n",
              "      --fill-color: #1967D2;\n",
              "      --hover-bg-color: #E2EBFA;\n",
              "      --hover-fill-color: #174EA6;\n",
              "      --disabled-fill-color: #AAA;\n",
              "      --disabled-bg-color: #DDD;\n",
              "  }\n",
              "\n",
              "  [theme=dark] .colab-df-quickchart {\n",
              "      --bg-color: #3B4455;\n",
              "      --fill-color: #D2E3FC;\n",
              "      --hover-bg-color: #434B5C;\n",
              "      --hover-fill-color: #FFFFFF;\n",
              "      --disabled-bg-color: #3B4455;\n",
              "      --disabled-fill-color: #666;\n",
              "  }\n",
              "\n",
              "  .colab-df-quickchart {\n",
              "    background-color: var(--bg-color);\n",
              "    border: none;\n",
              "    border-radius: 50%;\n",
              "    cursor: pointer;\n",
              "    display: none;\n",
              "    fill: var(--fill-color);\n",
              "    height: 32px;\n",
              "    padding: 0;\n",
              "    width: 32px;\n",
              "  }\n",
              "\n",
              "  .colab-df-quickchart:hover {\n",
              "    background-color: var(--hover-bg-color);\n",
              "    box-shadow: 0 1px 2px rgba(60, 64, 67, 0.3), 0 1px 3px 1px rgba(60, 64, 67, 0.15);\n",
              "    fill: var(--button-hover-fill-color);\n",
              "  }\n",
              "\n",
              "  .colab-df-quickchart-complete:disabled,\n",
              "  .colab-df-quickchart-complete:disabled:hover {\n",
              "    background-color: var(--disabled-bg-color);\n",
              "    fill: var(--disabled-fill-color);\n",
              "    box-shadow: none;\n",
              "  }\n",
              "\n",
              "  .colab-df-spinner {\n",
              "    border: 2px solid var(--fill-color);\n",
              "    border-color: transparent;\n",
              "    border-bottom-color: var(--fill-color);\n",
              "    animation:\n",
              "      spin 1s steps(1) infinite;\n",
              "  }\n",
              "\n",
              "  @keyframes spin {\n",
              "    0% {\n",
              "      border-color: transparent;\n",
              "      border-bottom-color: var(--fill-color);\n",
              "      border-left-color: var(--fill-color);\n",
              "    }\n",
              "    20% {\n",
              "      border-color: transparent;\n",
              "      border-left-color: var(--fill-color);\n",
              "      border-top-color: var(--fill-color);\n",
              "    }\n",
              "    30% {\n",
              "      border-color: transparent;\n",
              "      border-left-color: var(--fill-color);\n",
              "      border-top-color: var(--fill-color);\n",
              "      border-right-color: var(--fill-color);\n",
              "    }\n",
              "    40% {\n",
              "      border-color: transparent;\n",
              "      border-right-color: var(--fill-color);\n",
              "      border-top-color: var(--fill-color);\n",
              "    }\n",
              "    60% {\n",
              "      border-color: transparent;\n",
              "      border-right-color: var(--fill-color);\n",
              "    }\n",
              "    80% {\n",
              "      border-color: transparent;\n",
              "      border-right-color: var(--fill-color);\n",
              "      border-bottom-color: var(--fill-color);\n",
              "    }\n",
              "    90% {\n",
              "      border-color: transparent;\n",
              "      border-bottom-color: var(--fill-color);\n",
              "    }\n",
              "  }\n",
              "</style>\n",
              "\n",
              "  <script>\n",
              "    async function quickchart(key) {\n",
              "      const quickchartButtonEl =\n",
              "        document.querySelector('#' + key + ' button');\n",
              "      quickchartButtonEl.disabled = true;  // To prevent multiple clicks.\n",
              "      quickchartButtonEl.classList.add('colab-df-spinner');\n",
              "      try {\n",
              "        const charts = await google.colab.kernel.invokeFunction(\n",
              "            'suggestCharts', [key], {});\n",
              "      } catch (error) {\n",
              "        console.error('Error during call to suggestCharts:', error);\n",
              "      }\n",
              "      quickchartButtonEl.classList.remove('colab-df-spinner');\n",
              "      quickchartButtonEl.classList.add('colab-df-quickchart-complete');\n",
              "    }\n",
              "    (() => {\n",
              "      let quickchartButtonEl =\n",
              "        document.querySelector('#df-67a857f7-bb86-4c97-8939-66f518ca4e98 button');\n",
              "      quickchartButtonEl.style.display =\n",
              "        google.colab.kernel.accessAllowed ? 'block' : 'none';\n",
              "    })();\n",
              "  </script>\n",
              "</div>\n",
              "    </div>\n",
              "  </div>\n"
            ],
            "text/plain": [
              "                          Weights                         Prices  Capacity  \\\n",
              "0  [46.0, 40.0, 42.0, 38.0, 10.0]  [12.0, 19.0, 19.0, 15.0, 8.0]        40   \n",
              "1     [11.0, 31.0, 4.0, 6.0, 7.0]    [2.0, 8.0, 18.0, 16.0, 3.0]        64   \n",
              "2  [32.0, 49.0, 27.0, 37.0, 24.0]   [19.0, 16.0, 16.0, 4.0, 1.0]        87   \n",
              "3  [20.0, 35.0, 22.0, 23.0, 16.0]   [19.0, 17.0, 19.0, 9.0, 1.0]        21   \n",
              "4   [7.0, 12.0, 19.0, 13.0, 20.0]  [10.0, 11.0, 18.0, 15.0, 5.0]        50   \n",
              "\n",
              "                  Best picks  Best price  \n",
              "0  [0.0, 1.0, 0.0, 0.0, 0.0]        19.0  \n",
              "1  [1.0, 1.0, 1.0, 1.0, 1.0]        47.0  \n",
              "2  [1.0, 0.0, 1.0, 0.0, 1.0]        36.0  \n",
              "3  [1.0, 0.0, 0.0, 0.0, 0.0]        19.0  \n",
              "4  [0.0, 1.0, 1.0, 1.0, 0.0]        44.0  "
            ]
          },
          "execution_count": 7,
          "metadata": {},
          "output_type": "execute_result"
        }
      ],
      "source": [
        "# looking at the modified Dataset\n",
        "dataset.head()"
      ]
    },
    {
      "cell_type": "markdown",
      "metadata": {
        "id": "0ER3-7di7ufy"
      },
      "source": [
        "**4. Generate and Test**\n",
        "\n",
        "The `gen_and_test` function implements a brute-force approach to solve the Knapsack problem.\n",
        "\n",
        "- It starts by extracting the weights, prices, and knapsack capacity from the input data.\n",
        "- The function iterates through all possible combinations of items, represented as binary strings.\n",
        "- For each combination, it calculates the total weight and total price of the selected items by examining each bit in the binary representation and including the corresponding item if the bit is 1.\n",
        "- It checks if the total weight of the selected items does not exceed the knapsack capacity. If this condition is met and the total price of the current combination is greater than the best total price found so far, it updates the best total price and the list of best selected items price.\n",
        "- Finally, it returns the best total price and the list of items that should be included in the knapsack to achieve this maximum total price."
      ]
    },
    {
      "cell_type": "code",
      "execution_count": null,
      "metadata": {
        "id": "FqN5dVe7haO0"
      },
      "outputs": [],
      "source": [
        "def gen_and_test(data):\n",
        "    # Extracting the necessary data from the input 'data' dictionary\n",
        "    weights = data['Weights']    # List of item weights\n",
        "    prices = data['Prices']      # List of item prices\n",
        "    knapsack_capacity = data['Capacity']  # Knapsack capacity\n",
        "    n = len(weights)  # Number of items\n",
        "    best_solution_price = 0  # Initialize the best total price\n",
        "    best_solution = []  # Initialize the list of best selected items\n",
        "\n",
        "    # Generate all possible combinations of items\n",
        "    for i in range(2 ** n):\n",
        "        selected_items = []  # Initialize the list of items in the current combination\n",
        "        total_weight = 0  # Initialize the total weight of the current combination\n",
        "        total_price = 0   # Initialize the total price of the current combination\n",
        "\n",
        "        # Convert the integer i to its binary representation with 'n' digits (0-padded)\n",
        "        bin_str = bin(i)[2:].zfill(n)\n",
        "\n",
        "        # Check each item and add it to the knapsack if its corresponding bit is 1\n",
        "        for j in range(n):\n",
        "            if bin_str[j] == '1':\n",
        "                item_weight = weights[j]  # Get the weight of the j-th item\n",
        "                item_price = prices[j]    # Get the price of the j-th item\n",
        "                selected_items.append((item_weight, item_price))  # Add the item to the selected items list\n",
        "                total_weight += item_weight\n",
        "                total_price += item_price\n",
        "\n",
        "        # Check if this combination is better than the previous best\n",
        "        if total_weight <= knapsack_capacity and total_price > best_solution_price:\n",
        "            best_solution_price = total_price\n",
        "            best_solution = selected_items\n",
        "\n",
        "    return best_solution_price, best_solution\n"
      ]
    },
    {
      "cell_type": "code",
      "execution_count": null,
      "metadata": {
        "id": "xQyI_WRShaO0"
      },
      "outputs": [],
      "source": [
        "solutions = []\n",
        "for _, row in dataset.iterrows():\n",
        "    target = row['Best price']\n",
        "    solution, indexes = gen_and_test(row)\n",
        "    solutions.append(1 if target == solution else 0)\n"
      ]
    },
    {
      "cell_type": "code",
      "execution_count": null,
      "metadata": {
        "colab": {
          "base_uri": "https://localhost:8080/"
        },
        "id": "yodeAYV3haO0",
        "outputId": "b6cc59e7-b73c-4285-f603-702b2196db71"
      },
      "outputs": [
        {
          "name": "stdout",
          "output_type": "stream",
          "text": [
            "Accuracy of best prices found is 1.0\n"
          ]
        }
      ],
      "source": [
        "accuracy = np.mean(solutions)\n",
        "print('Accuracy of best prices found is', accuracy)"
      ]
    },
    {
      "cell_type": "markdown",
      "metadata": {
        "id": "sgYGIJMd-atd"
      },
      "source": [
        "**Our Analysis:**\n",
        "\n",
        "The brute-force algorithm, while guaranteeing correctness, exhibits significant limitations. Its exponential time complexity **O(2^n*n)** renders it impractical for real-world scenarios with a large number of items. For practical applications, the trade-off between accuracy and computational resources becomes evident, prompting the exploration of more efficient algorithms which we will see next in this assignment. In conclusion, the brute-force approach is valuable for understanding the problem and ensuring correctness, but its impracticality for large instances necessitates the adoption of more optimized algorithms in practice."
      ]
    },
    {
      "cell_type": "markdown",
      "metadata": {
        "id": "5rQYdUQx-dGi"
      },
      "source": [
        "------------------------------------------------------------------------------------------------"
      ]
    },
    {
      "cell_type": "markdown",
      "metadata": {
        "id": "z8_ipXOGhaO1"
      },
      "source": [
        "**5. Greedy Search**\n",
        "\n",
        "\n",
        "The `greedy` function provides a solution to the 0/1 Knapsack problem using a greedy approach:\n",
        "\n",
        "1. **Data Extraction**: The function starts by extracting essential data from the input dictionary. This includes lists of item weights, item prices, and the knapsack's capacity.\n",
        "\n",
        "2.  **Value-to-Weight Ratios**: It calculates the value-to-weight ratio for each item. This ratio represents how much value (price) you get for each unit of weight, which is a key factor in the greedy strategy.\n",
        "\n",
        "3.  **Sorting**: The function creates a list of item indices and sorts them based on their value-to-weight ratios in descending order. Sorting by the highest ratio first is a fundamental aspect of the greedy approach. This prioritizes items that provide the most value for their weight.\n",
        "\n",
        "4.  **Greedy Selection**: The core of the algorithm lies in the subsequent loop over the sorted indices. For each item:\n",
        "    - It checks whether adding the item to the current solution would exceed the knapsack's capacity. If the addition does not exceed the capacity, the item is included in the current solution.\n",
        "    - The current capacity of the knapsack is updated to reflect the added item's weight.\n",
        "    - The total price of the current solution is updated to reflect the added item's price.\n",
        "    - The algorithm continues to consider items in descending order of value-to-weight ratio until the knapsack is full.\n",
        "\n",
        "5.  **Binary Solution Representation**: To represent the final solution, a binary list is created. Each element corresponds to an item, with a value of 1 indicating that the item is selected and 0 indicating that it is not.\n",
        "\n",
        "\n",
        "\n",
        "\n"
      ]
    },
    {
      "cell_type": "code",
      "execution_count": null,
      "metadata": {
        "id": "bAfwGLDkhaO2"
      },
      "outputs": [],
      "source": [
        "def greedy(data):\n",
        "    # Extracting the necessary data from the input 'data' dictionary\n",
        "    weights = data['Weights']    # List of item weights\n",
        "    prices = data['Prices']      # List of item prices\n",
        "    knapsack_capacity = data['Capacity']  # Knapsack capacity\n",
        "    n = len(weights)  # Number of items\n",
        "    best_solution_price = 0  # Initialize the best total price\n",
        "    best_solution = []  # Initialize the list of best selected items\n",
        "\n",
        "    # Calculate the value-to-weight ratios for all items.\n",
        "    value_per_weight = [price / weight for price, weight in zip(prices, weights)]\n",
        "\n",
        "    # Create a list of item indices sorted by value-to-weight ratio in descending order.\n",
        "    sorted_indices = sorted(range(n), key=lambda i: value_per_weight[i], reverse=True)\n",
        "\n",
        "    current_capacity = 0  # Initialize the current capacity of the knapsack\n",
        "    current_solution = []  # Initialize the list of items in the current solution\n",
        "\n",
        "    for i in sorted_indices:\n",
        "        if current_capacity + weights[i] <= knapsack_capacity:\n",
        "            current_solution.append(i)  # Add the item to the current solution\n",
        "            current_capacity += weights[i]  # Update the current capacity\n",
        "            best_solution_price += prices[i]  # Update the best total price\n",
        "\n",
        "    # Create a binary list representing the best solution with 1s indicating selected items.\n",
        "    best_solution = [1 if i in current_solution else 0 for i in range(n)]\n",
        "\n",
        "    return best_solution_price, best_solution\n",
        "\n"
      ]
    },
    {
      "cell_type": "code",
      "execution_count": null,
      "metadata": {
        "id": "QeS54aqAhwhU"
      },
      "outputs": [],
      "source": [
        "solutions_greedy = []\n",
        "for _, row in dataset.iterrows():\n",
        "    target = row['Best price']\n",
        "    solution, indexes = greedy(row)\n",
        "    solutions_greedy.append(1 if target == solution else 0)"
      ]
    },
    {
      "cell_type": "code",
      "execution_count": null,
      "metadata": {
        "colab": {
          "base_uri": "https://localhost:8080/"
        },
        "id": "xWqCDMs-h0SX",
        "outputId": "112e793e-2fb8-4876-f165-47017b7cb017"
      },
      "outputs": [
        {
          "name": "stdout",
          "output_type": "stream",
          "text": [
            "Greedy Accuracy is 0.8341937443061038\n"
          ]
        }
      ],
      "source": [
        "accuracy_greedy = np.mean(solutions_greedy)\n",
        "print(\"Greedy Accuracy is\", accuracy_greedy)"
      ]
    },
    {
      "cell_type": "markdown",
      "metadata": {
        "id": "0DKep6e5-nuz"
      },
      "source": [
        "**Our Analysis:**\n",
        "\n",
        "The Greedy Algorithm for the Knapsack Problem efficiently approximates solutions while avoiding the exponential time complexity of brute force. By prioritizing high-value-to-weight ratio items, it often provides satisfactory results, especially when there's a clear distinction between item values. Its key strength is efficiency **O(n * log(n))**, making it practical for large problem instances. Although it doesn't guarantee optimality due to its local decision-making, the Greedy Algorithm offers a valuable compromise between solution quality and computational feasibility. It's widely used in real-world scenarios like resource allocation, where quick decisions matter and exhaustive methods are impractical, making it a practical choice for various applications."
      ]
    },
    {
      "cell_type": "markdown",
      "metadata": {
        "id": "XGBWQqlK-lra"
      },
      "source": [
        "------------------------------------------------------------------------------------------------"
      ]
    },
    {
      "cell_type": "markdown",
      "metadata": {
        "id": "PtDW2ja3R93S"
      },
      "source": [
        "**6. Simulated Annealing**\n",
        "\n",
        "1. **Initialization**: The code initializes several variables:\n",
        "   - `n`: The number of items in the knapsack.\n",
        "   - `current_solution`: The current solution to the knapsack problem, initially obtained using a greedy algorithm.\n",
        "   - `best_solution`: The best solution found so far (set to current solution).\n",
        "   - `best_solution_price`: The total value of the best solution found so far (set to 0).\n",
        "  - `current_temperature`: The initial temperature for the simulated annealing algorithm using the greedy algorithm.\n",
        "\n",
        "2. **Simulated Annealing Loop**: The core of the algorithm is a loop that runs for N iterations. In each iteration:\n",
        " - A neighboring solution is generated by flipping the status (0 or 1) of a random item in the knapsack.\n",
        " - The change in total value (delta) between the current solution and the neighbor solution is calculated.\n",
        " - If the neighbor solution is better (higher value) or is accepted probabilistically based on the temperature, and it does not exceed the knapsack's capacity, it becomes the new current solution.\n",
        " - If the current solution has a higher total value than the best solution found so far, it updates the best solution and best solution price.\n",
        " - The temperature is reduced by a factor of cooling_rate in each iteration, which is a key aspect of simulated annealing.\n",
        "\n",
        "3.\t**Result** : Finally, the function returns the best_solution_price (the total value of the best solution) and best_solution (the binary representation of items in the best solution)."
      ]
    },
    {
      "cell_type": "code",
      "execution_count": null,
      "metadata": {
        "id": "7rFhuXedSF_3"
      },
      "outputs": [],
      "source": [
        "import random\n",
        "import math\n",
        "\n",
        "def simulated_annealing(data,N, initial_temperature, cooling_rate):\n",
        "    weights = data['Weights']    # List of item weights\n",
        "    prices = data['Prices']      # List of item prices\n",
        "    cap = data['Capacity']      # Capacity of the Knapsack\n",
        "    n = len(weights)\n",
        "\n",
        "  # Initialize the current solution and best solution\n",
        "    _, indexes = greedy(data)\n",
        "    current_solution = indexes\n",
        "    best_solution = current_solution\n",
        "    best_solution_price = 0\n",
        "\n",
        "    current_temperature = initial_temperature\n",
        "\n",
        "    for iteration in range(N):\n",
        "        # Generate a neighboring solution by flipping a random item status in the knapsack\n",
        "        neighbor_solution = current_solution.copy()\n",
        "        rand_index = random.randint(0, n - 1)\n",
        "        neighbor_solution[rand_index] = 1 - neighbor_solution[rand_index]\n",
        "\n",
        "        # Calculate the change in total value\n",
        "        current_value = sum(prices[i] * current_solution[i] for i in range(n))\n",
        "        neighbor_value = sum(prices[i] * neighbor_solution[i] for i in range(n))\n",
        "        neighbor_weight = sum(weights[i] * neighbor_solution[i] for i in range(n))\n",
        "        delta = neighbor_value - current_value\n",
        "\n",
        "        # If the difference is greater than 0, meaning if the neighbor combination is better than the original combination and is under the capacity, we accept the result\n",
        "        if (delta > 0 or random.random() < math.exp(delta / current_temperature)) and (neighbor_weight <= cap):\n",
        "            current_solution = neighbor_solution\n",
        "\n",
        "        # Update the best solution if the sum of the price of current_solution is better than best_solution_price\n",
        "        if sum(prices[i] * current_solution[i] for i in range(n)) > best_solution_price:\n",
        "            #assigning the best_solution\n",
        "            best_solution = current_solution.copy()\n",
        "\n",
        "            #getting the value of the best_solution_price from the best_solution\n",
        "            best_solution_price = sum(prices[i] * current_solution[i] for i in range(n))\n",
        "\n",
        "        # Reduce the temperature\n",
        "        current_temperature *= cooling_rate\n",
        "\n",
        "    return best_solution_price, best_solution\n"
      ]
    },
    {
      "cell_type": "code",
      "execution_count": null,
      "metadata": {
        "colab": {
          "background_save": true
        },
        "id": "mAWQLNsESNIZ"
      },
      "outputs": [],
      "source": [
        "\n",
        "solutions_sa = []\n",
        "for _, row in dataset.iterrows():\n",
        "    target = row['Best price']\n",
        "    solution, indexes = simulated_annealing(row, N = 100, initial_temperature=30, cooling_rate=0.99)\n",
        "    solutions_sa.append(1 if target == solution else 0)\n",
        "\n"
      ]
    },
    {
      "cell_type": "code",
      "execution_count": null,
      "metadata": {
        "colab": {
          "background_save": true
        },
        "id": "jUdWEABkhkih",
        "outputId": "c249cba3-b620-4579-8075-af166852b7d5"
      },
      "outputs": [
        {
          "name": "stdout",
          "output_type": "stream",
          "text": [
            "Simulated Annealing Accuracy is 0.9789452373722036\n"
          ]
        }
      ],
      "source": [
        "accuracy_sa = np.mean(solutions_sa)\n",
        "print(\"Simulated Annealing Accuracy is\", accuracy_sa)"
      ]
    },
    {
      "cell_type": "markdown",
      "metadata": {
        "id": "PvvpYOOr-qqr"
      },
      "source": [
        "**Our Analysis:**\n",
        "\n",
        "Simulated Annealing is a versatile optimization algorithm utilized to find approximate solutions to complex problems like the Knapsack Problem. It starts with an initial solution and iteratively explores neighboring solutions, using a temperature parameter and cooling rate to probabilistically accept worse solutions. This property helps it escape local optima. Simulated Annealing doesn't guarantee optimal solutions but rather good approximations, making it suitable for problems where exhaustive search is impractical. However, its effectiveness depends on parameter tuning, and the algorithm's time complexity increases with the number of iterations. The generic time complexity of the algorithm is **O(N) to O(N^2)**.\n"
      ]
    },
    {
      "cell_type": "markdown",
      "metadata": {
        "id": "n0QXt7Ys-rCc"
      },
      "source": [
        "------------------------------------------------------------------------------------------------"
      ]
    },
    {
      "cell_type": "markdown",
      "metadata": {
        "id": "RHYjBUvVhtGV"
      },
      "source": [
        "**7. Genetic Algorithm**\n",
        "\n",
        "The Genetic Algorithm for the 0/1 Knapsack Problem:\n",
        "\n",
        "1. **Initialization**: Start by creating a population of potential solutions, where each solution represents a combination of items (0 for exclusion, 1 for inclusion) in the knapsack.\n",
        "\n",
        "2. **Fitness Calculation**: Calculate the fitness for each solution in the population, representing the total value of selected items. If the weight exceeds the knapsack's limit, set the fitness to 0.\n",
        "\n",
        "3. **Selection**: Choose parents for the next generation using tournament selection, repeatedly selecting the fittest individuals as parents.\n",
        "\n",
        "4. **Crossover (Recombination)**: Pair selected parents and perform crossover with a given probability. This involves exchanging genes (item selections) between parents to generate new child solutions.\n",
        "\n",
        "5. **Mutation**: Apply mutation to child solutions with a certain probability, introducing random changes in item selections to diversify the population.\n",
        "\n",
        "6. **Update Population**: Combine parents and children to form a new population, replacing the previous one.\n",
        "\n",
        "7. **Termination**: Repeat steps 3 to 6 for a specified number of generations (num_generations) until the algorithm reaches termination.\n",
        "\n",
        "8. **Best Solution Tracking**: Keep track of the best solution (highest fitness) found during the algorithm's execution.\n",
        "\n",
        "9. **Final Result**: When the algorithm concludes, return the best total value achieved by the genetic algorithm and a binary list representing the selected items in the knapsack.\n",
        "\n",
        "The Genetic Algorithm evolves candidate solutions over generations, selecting parents based on fitness, applying crossover and mutation, and tracking the best solution. Its goal is to find an optimal or near-optimal solution to the 0/1 Knapsack Problem.\n",
        "\n"
      ]
    },
    {
      "cell_type": "code",
      "execution_count": null,
      "metadata": {
        "colab": {
          "background_save": true
        },
        "id": "5kGKKUN8iP30"
      },
      "outputs": [],
      "source": [
        "import random\n",
        "\n",
        "# Function to calculate the fitness of an individual (total price of selected items)\n",
        "def calculate_fitness(ind, prices, weights, capacity):\n",
        "    total_price = 0\n",
        "    total_weight = 0\n",
        "    for i in range(len(ind)):\n",
        "        if ind[i] == 1:\n",
        "            total_price += prices[i]\n",
        "            total_weight += weights[i]\n",
        "    # If total weight exceeds the capacity, return 0 fitness\n",
        "    if total_weight > capacity:\n",
        "        return 0\n",
        "    else:\n",
        "        return total_price\n",
        "\n",
        "# Function to perform crossover between two parents\n",
        "def crossover(parent1, parent2, cross_rate):\n",
        "    child1 = parent1[:]  # Create a copy of the first parent\n",
        "    child2 = parent2[:]  # Create a copy of the second parent\n",
        "    for i in range(len(parent1)):\n",
        "        # With probability 'cross_rate', swap the values between parents\n",
        "        if random.random() < cross_rate:\n",
        "            child1[i], child2[i] = child2[i], child1[i]\n",
        "    return child1, child2\n",
        "\n",
        "# Function to perform mutation on an individual\n",
        "def mutation(child, mut_rate):\n",
        "    for i in range(len(child)):\n",
        "        # With probability 'mut_rate', flip the value (0 to 1 or 1 to 0)\n",
        "        if random.random() < mut_rate:\n",
        "            child[i] = 1 - child[i]\n",
        "    return child\n",
        "\n",
        "# Genetic algorithm function\n",
        "def genetic_algorithm(data, population_size, num_generations, mut_rate, cross_rate, tournament_size):\n",
        "    weights = data['Weights']  # List of item weights\n",
        "    prices = data['Prices']    # List of item prices\n",
        "    capacity = data['Capacity']  # Knapsack capacity\n",
        "\n",
        "    population = []\n",
        "    for _ in range(population_size):\n",
        "        # Initialize the population with random individuals\n",
        "        individual = [random.randint(0, 1) for _ in range(len(prices))]\n",
        "        population.append(individual)\n",
        "\n",
        "    # Initialize variables to keep track of the best solution\n",
        "    best_solution_price = 0\n",
        "    best_solution = [0] * len(prices)\n",
        "\n",
        "    for generation in range(num_generations):\n",
        "        # Select parents using tournament selection\n",
        "        parents = []\n",
        "        for _ in range(population_size):\n",
        "            # Randomly sample individuals for the tournament\n",
        "            tournament = random.sample(population, tournament_size)\n",
        "            tournament_fitness = [calculate_fitness(ind, prices, weights, capacity) for ind in tournament]\n",
        "            # Select the parent with the highest fitness from the tournament\n",
        "            selected_parent = tournament[tournament_fitness.index(max(tournament_fitness))]\n",
        "            parents.append(selected_parent)\n",
        "\n",
        "        # Create a new population through crossover and mutation\n",
        "        new_population = []\n",
        "        for i in range(0, population_size, 2):\n",
        "            parent1, parent2 = parents[i], parents[i + 1]\n",
        "            child1, child2 = crossover(parent1, parent2, cross_rate)\n",
        "            child1 = mutation(child1, mut_rate)\n",
        "            child2 = mutation(child2, mut_rate)\n",
        "            new_population.extend([child1, child2])\n",
        "\n",
        "        population = new_population\n",
        "\n",
        "        # Update the best solution if necessary\n",
        "        for individual in population:\n",
        "            individual_price = calculate_fitness(individual, prices, weights, capacity)\n",
        "            if individual_price > best_solution_price:\n",
        "                best_solution_price = individual_price\n",
        "                best_solution = individual\n",
        "\n",
        "    # Return the best solution price and the best solution itself\n",
        "    return best_solution_price, best_solution\n"
      ]
    },
    {
      "cell_type": "code",
      "execution_count": null,
      "metadata": {
        "id": "5b4hBtUijZzg"
      },
      "outputs": [],
      "source": [
        "solutions_ga = []\n",
        "for _, row in dataset.iterrows():\n",
        "    target = row['Best price']\n",
        "    solution, indexes = genetic_algorithm(row, population_size = 50, num_generations = 50, mut_rate = 0.1, cross_rate = 0.7, tournament_size = 5)\n",
        "    solutions_ga.append(1 if target == solution else 0)"
      ]
    },
    {
      "cell_type": "code",
      "execution_count": null,
      "metadata": {
        "colab": {
          "background_save": true
        },
        "id": "hJ3ceIHSs-W-",
        "outputId": "42bd2c63-dd6f-456d-a232-8b52797455e9"
      },
      "outputs": [
        {
          "name": "stdout",
          "output_type": "stream",
          "text": [
            "Genetic Algorithm Accuracy is 0.9992914262577184\n"
          ]
        }
      ],
      "source": [
        "accuracy_ga = np.mean(solutions_ga)\n",
        "print(\"Genetic Algorithm Accuracy is\",accuracy_ga )"
      ]
    },
    {
      "cell_type": "markdown",
      "metadata": {
        "id": "5yn8KLah-xGF"
      },
      "source": [
        "**Our Analysis:**\n",
        "\n",
        "The Genetic Algorithm for the Knapsack Problem is a versatile heuristic optimization technique that efficiently approximates solutions while avoiding the exponential time complexity of exhaustive search methods. By iteratively evolving a population of candidate solutions, it explores a broad solution space and often provides satisfactory results. Its key strength is its ability to handle complex, combinatorial optimization problems efficiently, typically with a time complexity of **O(num_generations * population_size * num_items)**, making it practical for large problem instances.\n",
        "\n",
        "While the Genetic Algorithm does not guarantee finding the global optimum due to its stochastic nature, it offers a valuable compromise between solution quality and computational feasibility. It excels in balancing exploration and exploitation of the solution space, making it suitable for a wide range of real-world applications, including resource allocation, feature selection, circuit design, and more. In scenarios where quick decisions are essential and exhaustive methods are impractical, the Genetic Algorithm emerges as a practical choice, capable of finding near-optimal solutions in complex optimization problems."
      ]
    },
    {
      "cell_type": "markdown",
      "metadata": {
        "id": "ekb0LOgF-xUN"
      },
      "source": [
        "------------------------------------------------------------------------------------------------"
      ]
    },
    {
      "cell_type": "markdown",
      "metadata": {
        "id": "NdO_H-4t-6mg"
      },
      "source": [
        "**8. Comparative Study**\n",
        "\n",
        "**Description**\n",
        "\n",
        "The purpose of this comparative study is to evaluate and compare the performance of different algorithms for solving the Knapsack problem. Four algorithms were selected for this study: Brute Force, Greedy Algorithm, Simulated Annealing and Genetic Algorithm.\n",
        "\n",
        "\n",
        "\n"
      ]
    },
    {
      "cell_type": "code",
      "execution_count": null,
      "metadata": {
        "id": "08DZuJb72h2x",
        "outputId": "c1513fd3-b7f2-4493-a433-f73c9c6798c1",
        "colab": {
          "base_uri": "https://localhost:8080/",
          "height": 487
        }
      },
      "outputs": [
        {
          "output_type": "display_data",
          "data": {
            "text/plain": [
              "<Figure size 640x480 with 1 Axes>"
            ],
            "image/png": "[encoded data removed]"
          },
          "metadata": {}
        }
      ],
      "source": [
        "import matplotlib.pyplot as plt\n",
        "\n",
        "values = [accuracy, accuracy_greedy, accuracy_sa, accuracy_ga]\n",
        "variables = ['Brute Force', 'Greedy Algorithm', 'Simulated Annealing', 'Genetic Algorithm']\n",
        "\n",
        "plt.bar(variables, values, color='skyblue')\n",
        "\n",
        "plt.xlabel('Algorithms Used')\n",
        "plt.ylabel('Accuracy')\n",
        "plt.title('Bar Graph comparing accuracy of different algorithms')\n",
        "\n",
        "plt.xticks(rotation=15, ha=\"right\")\n",
        "\n",
        "plt.tight_layout()\n",
        "\n",
        "plt.show()\n"
      ]
    },
    {
      "cell_type": "markdown",
      "metadata": {
        "id": "dhVUxGMQ4mHT"
      },
      "source": [
        "**Discussion**\n",
        "\n",
        "In this comparative study, we evaluated the performance of three algorithms (Brute Force, Greedy Algorithm, Simulated Annealing and Genetic Algorithm) for solving the Knapsack problem. The figure presented above provide insights into accuracy of each algorithm under different scenarios.\n",
        "\n",
        "Key findings and observations include:\n",
        "\n",
        "- Brute Force provides optimal solutions but is computationally expensive, especially for large problem instances.\n",
        "- The Greedy Algorithm provides reasonably good solutions quickly but may not always yield optimal results.\n",
        "- Simulated Annealing uses the greedy algorthim to compute the results and tries to explore other (random) nodes (possibly worse results based on input parameters) based on probability.\n",
        "- Genetic Algorithm strikes a balance between solution quality and execution time, with performance influenced by parameter settings."
      ]
    },
    {
      "cell_type": "markdown",
      "metadata": {
        "id": "Ltxi9M7t6i9u"
      },
      "source": [
        "\n",
        "\n",
        "---\n",
        "\n"
      ]
    },
    {
      "cell_type": "markdown",
      "metadata": {
        "id": "8Ikmq-si_23Y"
      },
      "source": [
        "**9. Conclusion**\n",
        "\n",
        "In this empirical study, we conducted a comparative analysis of four different algorithms for solving the Knapsack problem: Brute Force, Greedy Algorithm, Simulated Annealing, and Genetic Algorithm. Our primary objective was to evaluate the performance of these algorithms in terms of accuracy, which is a critical metric when solving real-world optimization problems.\n",
        "\n",
        "**Empirical Study Results**\n",
        "\n",
        "- **Accuracy**: Brute Force consistently provided accurate, optimal solutions. This reliability makes it an excellent choice for scenarios where precision is paramount but computational resources are not a limiting factor. The Greedy Algorithm and Simulated Annealing, while offering faster solutions, sometimes sacrificed accuracy due to their heuristic nature. The Genetic Algorithm, known for its robustness, delivered competitive accuracy levels, especially in medium-sized problem instances.\n",
        "\n",
        "**Ideas for Future Work**\n",
        "\n",
        "Future work in the context of solving the Knapsack problem and related combinatorial optimization challenges can explore the following avenues:\n",
        "\n",
        "1. **Hybrid Algorithms**: Investigate the potential of hybrid algorithms that combine the strengths of multiple algorithms, leveraging accuracy and efficiency simultaneously.\n",
        "\n",
        "2. **Parallel Processing**: Implement advanced parallel processing techniques to further enhance the scalability of algorithms, enabling them to tackle even larger problem instances without compromising accuracy.\n",
        "\n",
        "3. **Machine Learning Integration**: Explore the integration of machine learning techniques, such as reinforcement learning and neural networks, to create adaptive algorithms that can continually improve their accuracy over time.\n",
        "\n",
        "In conclusion, our empirical study provided valuable insights into the trade-offs between accuracy and efficiency among different algorithms for solving the Knapsack problem. The choice of algorithm should be made based on the specific problem requirements, considering factors like problem size, precision needs, and available computational resources. Future research can build upon these findings to develop cutting-edge optimization solutions that address real-world challenges with a focus on both accuracy and efficiency."
      ]
    },
    {
      "cell_type": "markdown",
      "metadata": {
        "id": "41s8gvCNABDy"
      },
      "source": [
        "--------------------------------------------------------------------------\n"
      ]
    },
    {
      "cell_type": "markdown",
      "metadata": {
        "id": "PtbOgI1q_9a0"
      },
      "source": [
        "**10. References**\n",
        "\n",
        "\n",
        "1. [How to solve the Knapsack Problem with dynamic programming](https://medium.com/@fabianterh/how-to-solve-the-knapsack-problem-with-dynamic-programming-eb88c706d3cf)\n",
        "2. [0/1 Knapsack Problem](https://www.geeksforgeeks.org/0-1-knapsack-problem-dp-10/)\n",
        "3. [Knapsack problem](https://en.wikipedia.org/wiki/Knapsack_problem)\n",
        "4. [Knapsack Problem - Greedy Method](https://www.youtube.com/watch?v=oTTzNMHM05I&ab_channel=AbdulBari)\n",
        "5. [Genetically solving the age old Knapsack Problem](https://arpitbhayani.me/blogs/genetic-knapsack/)\n",
        "6. [Simulated Annealing And The Knapsack Problem](https://web.karabuk.edu.tr/emrullahsonuc/papers/A_Parallel_Approach_for_Solving_01_Knapsack_Problem_using_Simulated_Annealing_Algorithm_on_CUDA_Platform.pdf)\n"
      ]
    }
  ],
  "metadata": {
    "colab": {
      "provenance": []
    },
    "kernelspec": {
      "display_name": "Python 3 (ipykernel)",
      "language": "python",
      "name": "python3"
    },
    "language_info": {
      "codemirror_mode": {
        "name": "ipython",
        "version": 3
      },
      "file_extension": ".py",
      "mimetype": "text/x-python",
      "name": "python",
      "nbconvert_exporter": "python",
      "pygments_lexer": "ipython3",
      "version": "3.11.4"
    }
  },
  "nbformat": 4,
  "nbformat_minor": 0
}