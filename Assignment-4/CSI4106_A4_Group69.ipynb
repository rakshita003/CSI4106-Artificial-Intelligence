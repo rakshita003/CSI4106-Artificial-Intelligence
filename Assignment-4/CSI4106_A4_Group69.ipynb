{
  "cells": [
    {
      "cell_type": "markdown",
      "metadata": {
        "id": "Pbcc9QS1tnBN"
      },
      "source": [
        "# ASSIGNMENT 4\n",
        "##  Classification Empirical Study Text Classification"
      ]
    },
    {
      "cell_type": "markdown",
      "source": [
        "\n",
        "\n",
        "---\n",
        "\n"
      ],
      "metadata": {
        "id": "Qwo88no_3w2v"
      }
    },
    {
      "cell_type": "markdown",
      "metadata": {
        "id": "f2Eeke4Z_EkW"
      },
      "source": [
        " **Group Description**\n",
        "\n",
        "- Group Number: 69\n",
        "- Member 1\n",
        "  - Student Name: Meet Mehta\n",
        "  - Student Number: 300261159\n",
        "- Member 2\n",
        "  - Student Name: Rakshita Mathur\n",
        "  - Student Number: 300215340\n"
      ]
    },
    {
      "cell_type": "markdown",
      "source": [
        "\n",
        "\n",
        "---\n",
        "\n"
      ],
      "metadata": {
        "id": "_4M0E7NL3yhl"
      }
    },
    {
      "cell_type": "markdown",
      "metadata": {
        "id": "z7oWheiUMTQ8"
      },
      "source": [
        "## Importing Libraries"
      ]
    },
    {
      "cell_type": "code",
      "execution_count": null,
      "metadata": {
        "colab": {
          "base_uri": "https://localhost:8080/"
        },
        "id": "aCWgl6PLKTDY",
        "outputId": "c65d0c40-226b-4932-b397-f5db481ddc61"
      },
      "outputs": [
        {
          "output_type": "stream",
          "name": "stdout",
          "text": [
            "Requirement already satisfied: spacy in /usr/local/lib/python3.10/dist-packages (3.6.1)\n",
            "Requirement already satisfied: spacy-legacy<3.1.0,>=3.0.11 in /usr/local/lib/python3.10/dist-packages (from spacy) (3.0.12)\n",
            "Requirement already satisfied: spacy-loggers<2.0.0,>=1.0.0 in /usr/local/lib/python3.10/dist-packages (from spacy) (1.0.5)\n",
            "Requirement already satisfied: murmurhash<1.1.0,>=0.28.0 in /usr/local/lib/python3.10/dist-packages (from spacy) (1.0.10)\n",
            "Requirement already satisfied: cymem<2.1.0,>=2.0.2 in /usr/local/lib/python3.10/dist-packages (from spacy) (2.0.8)\n",
            "Requirement already satisfied: preshed<3.1.0,>=3.0.2 in /usr/local/lib/python3.10/dist-packages (from spacy) (3.0.9)\n",
            "Requirement already satisfied: thinc<8.2.0,>=8.1.8 in /usr/local/lib/python3.10/dist-packages (from spacy) (8.1.12)\n",
            "Requirement already satisfied: wasabi<1.2.0,>=0.9.1 in /usr/local/lib/python3.10/dist-packages (from spacy) (1.1.2)\n",
            "Requirement already satisfied: srsly<3.0.0,>=2.4.3 in /usr/local/lib/python3.10/dist-packages (from spacy) (2.4.8)\n",
            "Requirement already satisfied: catalogue<2.1.0,>=2.0.6 in /usr/local/lib/python3.10/dist-packages (from spacy) (2.0.10)\n",
            "Requirement already satisfied: typer<0.10.0,>=0.3.0 in /usr/local/lib/python3.10/dist-packages (from spacy) (0.9.0)\n",
            "Requirement already satisfied: pathy>=0.10.0 in /usr/local/lib/python3.10/dist-packages (from spacy) (0.10.3)\n",
            "Requirement already satisfied: smart-open<7.0.0,>=5.2.1 in /usr/local/lib/python3.10/dist-packages (from spacy) (6.4.0)\n",
            "Requirement already satisfied: tqdm<5.0.0,>=4.38.0 in /usr/local/lib/python3.10/dist-packages (from spacy) (4.66.1)\n",
            "Requirement already satisfied: numpy>=1.15.0 in /usr/local/lib/python3.10/dist-packages (from spacy) (1.23.5)\n",
            "Requirement already satisfied: requests<3.0.0,>=2.13.0 in /usr/local/lib/python3.10/dist-packages (from spacy) (2.31.0)\n",
            "Requirement already satisfied: pydantic!=1.8,!=1.8.1,<3.0.0,>=1.7.4 in /usr/local/lib/python3.10/dist-packages (from spacy) (1.10.13)\n",
            "Requirement already satisfied: jinja2 in /usr/local/lib/python3.10/dist-packages (from spacy) (3.1.2)\n",
            "Requirement already satisfied: setuptools in /usr/local/lib/python3.10/dist-packages (from spacy) (67.7.2)\n",
            "Requirement already satisfied: packaging>=20.0 in /usr/local/lib/python3.10/dist-packages (from spacy) (23.2)\n",
            "Requirement already satisfied: langcodes<4.0.0,>=3.2.0 in /usr/local/lib/python3.10/dist-packages (from spacy) (3.3.0)\n",
            "Requirement already satisfied: typing-extensions>=4.2.0 in /usr/local/lib/python3.10/dist-packages (from pydantic!=1.8,!=1.8.1,<3.0.0,>=1.7.4->spacy) (4.5.0)\n",
            "Requirement already satisfied: charset-normalizer<4,>=2 in /usr/local/lib/python3.10/dist-packages (from requests<3.0.0,>=2.13.0->spacy) (3.3.2)\n",
            "Requirement already satisfied: idna<4,>=2.5 in /usr/local/lib/python3.10/dist-packages (from requests<3.0.0,>=2.13.0->spacy) (3.4)\n",
            "Requirement already satisfied: urllib3<3,>=1.21.1 in /usr/local/lib/python3.10/dist-packages (from requests<3.0.0,>=2.13.0->spacy) (2.0.7)\n",
            "Requirement already satisfied: certifi>=2017.4.17 in /usr/local/lib/python3.10/dist-packages (from requests<3.0.0,>=2.13.0->spacy) (2023.7.22)\n",
            "Requirement already satisfied: blis<0.8.0,>=0.7.8 in /usr/local/lib/python3.10/dist-packages (from thinc<8.2.0,>=8.1.8->spacy) (0.7.11)\n",
            "Requirement already satisfied: confection<1.0.0,>=0.0.1 in /usr/local/lib/python3.10/dist-packages (from thinc<8.2.0,>=8.1.8->spacy) (0.1.3)\n",
            "Requirement already satisfied: click<9.0.0,>=7.1.1 in /usr/local/lib/python3.10/dist-packages (from typer<0.10.0,>=0.3.0->spacy) (8.1.7)\n",
            "Requirement already satisfied: MarkupSafe>=2.0 in /usr/local/lib/python3.10/dist-packages (from jinja2->spacy) (2.1.3)\n"
          ]
        }
      ],
      "source": [
        "!pip install spacy\n",
        "\n",
        "import spacy\n",
        "import warnings\n",
        "import pandas as pd\n",
        "import numpy as np\n",
        "import seaborn as sns\n",
        "import matplotlib.pyplot as plt\n",
        "from prettytable import PrettyTable\n",
        "\n",
        "from sklearn.pipeline import make_pipeline\n",
        "from sklearn.preprocessing import LabelEncoder\n",
        "from sklearn.model_selection import train_test_split\n",
        "from sklearn.feature_extraction.text import TfidfVectorizer\n",
        "from sklearn.feature_extraction.text import CountVectorizer, TfidfTransformer\n",
        "\n",
        "from sklearn.neural_network import MLPClassifier\n",
        "from sklearn.linear_model import LogisticRegression\n",
        "\n",
        "from sklearn.model_selection import cross_val_predict\n",
        "from sklearn.model_selection import StratifiedKFold\n",
        "\n",
        "from sklearn.metrics import classification_report\n",
        "from sklearn.metrics import precision_recall_fscore_support, accuracy_score, confusion_matrix"
      ]
    },
    {
      "cell_type": "markdown",
      "metadata": {
        "id": "6oUPBuYuZGbp"
      },
      "source": [
        "\n",
        "\n",
        "---\n",
        "\n"
      ]
    },
    {
      "cell_type": "markdown",
      "metadata": {
        "id": "1IlDPiA0MbFT"
      },
      "source": [
        "## Loading Dataset"
      ]
    },
    {
      "cell_type": "markdown",
      "metadata": {
        "id": "zH6SXp6Ki19a"
      },
      "source": [
        "I chose dataset 3 for its relevance to real-world applications, specifically in understanding and improving the passenger journey within the airline industry. The comprehensive collection of passenger reviews and corresponding categories provides valuable insights into customer satisfaction and service quality. This dataset aligns with my interest in practical applications and offers opportunities for meaningful analysis and informed decision-making."
      ]
    },
    {
      "cell_type": "code",
      "execution_count": null,
      "metadata": {
        "colab": {
          "base_uri": "https://localhost:8080/",
          "height": 206
        },
        "id": "1Xx4qMCLKTDb",
        "outputId": "07d14e31-f9ec-490a-aa0c-a325e4bdb390"
      },
      "outputs": [
        {
          "output_type": "execute_result",
          "data": {
            "text/plain": [
              "                                     customer_review  NPS Score\n",
              "0   London to Izmir via Istanbul. First time I'd ...    Passive\n",
              "1   Istanbul to Bucharest. We make our check in i...  Detractor\n",
              "2   Rome to Prishtina via Istanbul. I flew with t...  Detractor\n",
              "3   Flew on Turkish Airlines IAD-IST-KHI and retu...   Promoter\n",
              "4   Mumbai to Dublin via Istanbul. Never book Tur...  Detractor"
            ],
            "text/html": [
              "\n",
              "  <div id=\"df-a7aacf23-85d4-4f0a-835b-c0d8f658731c\" class=\"colab-df-container\">\n",
              "    <div>\n",
              "<style scoped>\n",
              "    .dataframe tbody tr th:only-of-type {\n",
              "        vertical-align: middle;\n",
              "    }\n",
              "\n",
              "    .dataframe tbody tr th {\n",
              "        vertical-align: top;\n",
              "    }\n",
              "\n",
              "    .dataframe thead th {\n",
              "        text-align: right;\n",
              "    }\n",
              "</style>\n",
              "<table border=\"1\" class=\"dataframe\">\n",
              "  <thead>\n",
              "    <tr style=\"text-align: right;\">\n",
              "      <th></th>\n",
              "      <th>customer_review</th>\n",
              "      <th>NPS Score</th>\n",
              "    </tr>\n",
              "  </thead>\n",
              "  <tbody>\n",
              "    <tr>\n",
              "      <th>0</th>\n",
              "      <td>London to Izmir via Istanbul. First time I'd ...</td>\n",
              "      <td>Passive</td>\n",
              "    </tr>\n",
              "    <tr>\n",
              "      <th>1</th>\n",
              "      <td>Istanbul to Bucharest. We make our check in i...</td>\n",
              "      <td>Detractor</td>\n",
              "    </tr>\n",
              "    <tr>\n",
              "      <th>2</th>\n",
              "      <td>Rome to Prishtina via Istanbul. I flew with t...</td>\n",
              "      <td>Detractor</td>\n",
              "    </tr>\n",
              "    <tr>\n",
              "      <th>3</th>\n",
              "      <td>Flew on Turkish Airlines IAD-IST-KHI and retu...</td>\n",
              "      <td>Promoter</td>\n",
              "    </tr>\n",
              "    <tr>\n",
              "      <th>4</th>\n",
              "      <td>Mumbai to Dublin via Istanbul. Never book Tur...</td>\n",
              "      <td>Detractor</td>\n",
              "    </tr>\n",
              "  </tbody>\n",
              "</table>\n",
              "</div>\n",
              "    <div class=\"colab-df-buttons\">\n",
              "\n",
              "  <div class=\"colab-df-container\">\n",
              "    <button class=\"colab-df-convert\" onclick=\"convertToInteractive('df-a7aacf23-85d4-4f0a-835b-c0d8f658731c')\"\n",
              "            title=\"Convert this dataframe to an interactive table.\"\n",
              "            style=\"display:none;\">\n",
              "\n",
              "  <svg xmlns=\"http://www.w3.org/2000/svg\" height=\"24px\" viewBox=\"0 -960 960 960\">\n",
              "    <path d=\"M120-120v-720h720v720H120Zm60-500h600v-160H180v160Zm220 220h160v-160H400v160Zm0 220h160v-160H400v160ZM180-400h160v-160H180v160Zm440 0h160v-160H620v160ZM180-180h160v-160H180v160Zm440 0h160v-160H620v160Z\"/>\n",
              "  </svg>\n",
              "    </button>\n",
              "\n",
              "  <style>\n",
              "    .colab-df-container {\n",
              "      display:flex;\n",
              "      gap: 12px;\n",
              "    }\n",
              "\n",
              "    .colab-df-convert {\n",
              "      background-color: #E8F0FE;\n",
              "      border: none;\n",
              "      border-radius: 50%;\n",
              "      cursor: pointer;\n",
              "      display: none;\n",
              "      fill: #1967D2;\n",
              "      height: 32px;\n",
              "      padding: 0 0 0 0;\n",
              "      width: 32px;\n",
              "    }\n",
              "\n",
              "    .colab-df-convert:hover {\n",
              "      background-color: #E2EBFA;\n",
              "      box-shadow: 0px 1px 2px rgba(60, 64, 67, 0.3), 0px 1px 3px 1px rgba(60, 64, 67, 0.15);\n",
              "      fill: #174EA6;\n",
              "    }\n",
              "\n",
              "    .colab-df-buttons div {\n",
              "      margin-bottom: 4px;\n",
              "    }\n",
              "\n",
              "    [theme=dark] .colab-df-convert {\n",
              "      background-color: #3B4455;\n",
              "      fill: #D2E3FC;\n",
              "    }\n",
              "\n",
              "    [theme=dark] .colab-df-convert:hover {\n",
              "      background-color: #434B5C;\n",
              "      box-shadow: 0px 1px 3px 1px rgba(0, 0, 0, 0.15);\n",
              "      filter: drop-shadow(0px 1px 2px rgba(0, 0, 0, 0.3));\n",
              "      fill: #FFFFFF;\n",
              "    }\n",
              "  </style>\n",
              "\n",
              "    <script>\n",
              "      const buttonEl =\n",
              "        document.querySelector('#df-a7aacf23-85d4-4f0a-835b-c0d8f658731c button.colab-df-convert');\n",
              "      buttonEl.style.display =\n",
              "        google.colab.kernel.accessAllowed ? 'block' : 'none';\n",
              "\n",
              "      async function convertToInteractive(key) {\n",
              "        const element = document.querySelector('#df-a7aacf23-85d4-4f0a-835b-c0d8f658731c');\n",
              "        const dataTable =\n",
              "          await google.colab.kernel.invokeFunction('convertToInteractive',\n",
              "                                                    [key], {});\n",
              "        if (!dataTable) return;\n",
              "\n",
              "        const docLinkHtml = 'Like what you see? Visit the ' +\n",
              "          '<a target=\"_blank\" href=https://colab.research.google.com/notebooks/data_table.ipynb>data table notebook</a>'\n",
              "          + ' to learn more about interactive tables.';\n",
              "        element.innerHTML = '';\n",
              "        dataTable['output_type'] = 'display_data';\n",
              "        await google.colab.output.renderOutput(dataTable, element);\n",
              "        const docLink = document.createElement('div');\n",
              "        docLink.innerHTML = docLinkHtml;\n",
              "        element.appendChild(docLink);\n",
              "      }\n",
              "    </script>\n",
              "  </div>\n",
              "\n",
              "\n",
              "<div id=\"df-b99a59e7-0651-4162-94e8-5dfdd234c99c\">\n",
              "  <button class=\"colab-df-quickchart\" onclick=\"quickchart('df-b99a59e7-0651-4162-94e8-5dfdd234c99c')\"\n",
              "            title=\"Suggest charts\"\n",
              "            style=\"display:none;\">\n",
              "\n",
              "<svg xmlns=\"http://www.w3.org/2000/svg\" height=\"24px\"viewBox=\"0 0 24 24\"\n",
              "     width=\"24px\">\n",
              "    <g>\n",
              "        <path d=\"M19 3H5c-1.1 0-2 .9-2 2v14c0 1.1.9 2 2 2h14c1.1 0 2-.9 2-2V5c0-1.1-.9-2-2-2zM9 17H7v-7h2v7zm4 0h-2V7h2v10zm4 0h-2v-4h2v4z\"/>\n",
              "    </g>\n",
              "</svg>\n",
              "  </button>\n",
              "\n",
              "<style>\n",
              "  .colab-df-quickchart {\n",
              "      --bg-color: #E8F0FE;\n",
              "      --fill-color: #1967D2;\n",
              "      --hover-bg-color: #E2EBFA;\n",
              "      --hover-fill-color: #174EA6;\n",
              "      --disabled-fill-color: #AAA;\n",
              "      --disabled-bg-color: #DDD;\n",
              "  }\n",
              "\n",
              "  [theme=dark] .colab-df-quickchart {\n",
              "      --bg-color: #3B4455;\n",
              "      --fill-color: #D2E3FC;\n",
              "      --hover-bg-color: #434B5C;\n",
              "      --hover-fill-color: #FFFFFF;\n",
              "      --disabled-bg-color: #3B4455;\n",
              "      --disabled-fill-color: #666;\n",
              "  }\n",
              "\n",
              "  .colab-df-quickchart {\n",
              "    background-color: var(--bg-color);\n",
              "    border: none;\n",
              "    border-radius: 50%;\n",
              "    cursor: pointer;\n",
              "    display: none;\n",
              "    fill: var(--fill-color);\n",
              "    height: 32px;\n",
              "    padding: 0;\n",
              "    width: 32px;\n",
              "  }\n",
              "\n",
              "  .colab-df-quickchart:hover {\n",
              "    background-color: var(--hover-bg-color);\n",
              "    box-shadow: 0 1px 2px rgba(60, 64, 67, 0.3), 0 1px 3px 1px rgba(60, 64, 67, 0.15);\n",
              "    fill: var(--button-hover-fill-color);\n",
              "  }\n",
              "\n",
              "  .colab-df-quickchart-complete:disabled,\n",
              "  .colab-df-quickchart-complete:disabled:hover {\n",
              "    background-color: var(--disabled-bg-color);\n",
              "    fill: var(--disabled-fill-color);\n",
              "    box-shadow: none;\n",
              "  }\n",
              "\n",
              "  .colab-df-spinner {\n",
              "    border: 2px solid var(--fill-color);\n",
              "    border-color: transparent;\n",
              "    border-bottom-color: var(--fill-color);\n",
              "    animation:\n",
              "      spin 1s steps(1) infinite;\n",
              "  }\n",
              "\n",
              "  @keyframes spin {\n",
              "    0% {\n",
              "      border-color: transparent;\n",
              "      border-bottom-color: var(--fill-color);\n",
              "      border-left-color: var(--fill-color);\n",
              "    }\n",
              "    20% {\n",
              "      border-color: transparent;\n",
              "      border-left-color: var(--fill-color);\n",
              "      border-top-color: var(--fill-color);\n",
              "    }\n",
              "    30% {\n",
              "      border-color: transparent;\n",
              "      border-left-color: var(--fill-color);\n",
              "      border-top-color: var(--fill-color);\n",
              "      border-right-color: var(--fill-color);\n",
              "    }\n",
              "    40% {\n",
              "      border-color: transparent;\n",
              "      border-right-color: var(--fill-color);\n",
              "      border-top-color: var(--fill-color);\n",
              "    }\n",
              "    60% {\n",
              "      border-color: transparent;\n",
              "      border-right-color: var(--fill-color);\n",
              "    }\n",
              "    80% {\n",
              "      border-color: transparent;\n",
              "      border-right-color: var(--fill-color);\n",
              "      border-bottom-color: var(--fill-color);\n",
              "    }\n",
              "    90% {\n",
              "      border-color: transparent;\n",
              "      border-bottom-color: var(--fill-color);\n",
              "    }\n",
              "  }\n",
              "</style>\n",
              "\n",
              "  <script>\n",
              "    async function quickchart(key) {\n",
              "      const quickchartButtonEl =\n",
              "        document.querySelector('#' + key + ' button');\n",
              "      quickchartButtonEl.disabled = true;  // To prevent multiple clicks.\n",
              "      quickchartButtonEl.classList.add('colab-df-spinner');\n",
              "      try {\n",
              "        const charts = await google.colab.kernel.invokeFunction(\n",
              "            'suggestCharts', [key], {});\n",
              "      } catch (error) {\n",
              "        console.error('Error during call to suggestCharts:', error);\n",
              "      }\n",
              "      quickchartButtonEl.classList.remove('colab-df-spinner');\n",
              "      quickchartButtonEl.classList.add('colab-df-quickchart-complete');\n",
              "    }\n",
              "    (() => {\n",
              "      let quickchartButtonEl =\n",
              "        document.querySelector('#df-b99a59e7-0651-4162-94e8-5dfdd234c99c button');\n",
              "      quickchartButtonEl.style.display =\n",
              "        google.colab.kernel.accessAllowed ? 'block' : 'none';\n",
              "    })();\n",
              "  </script>\n",
              "</div>\n",
              "    </div>\n",
              "  </div>\n"
            ]
          },
          "metadata": {},
          "execution_count": 2
        }
      ],
      "source": [
        "#Loading and reading the dataset\n",
        "url = \"https://raw.githubusercontent.com/rakshita003/Datasets/main/reduced_file_AirPassengerReviews.csv\"\n",
        "data = pd.read_csv(url)\n",
        "data.head()"
      ]
    },
    {
      "cell_type": "markdown",
      "metadata": {
        "id": "ZzZfr-ZWZIii"
      },
      "source": [
        "\n",
        "\n",
        "---\n",
        "\n"
      ]
    },
    {
      "cell_type": "markdown",
      "metadata": {
        "id": "Y3pycllPKTDd"
      },
      "source": [
        "## Data Preprocessing"
      ]
    },
    {
      "cell_type": "markdown",
      "metadata": {
        "id": "0E2z_4fzeEy6"
      },
      "source": [
        " The spacy library is used to tokenize the customer reviews.\n",
        " Three dataframes (dataset, derived_dataset1, and derived_dataset2) are created to store different types of processed data.\n"
      ]
    },
    {
      "cell_type": "code",
      "execution_count": null,
      "metadata": {
        "id": "wQtSi8XuKTDe"
      },
      "outputs": [],
      "source": [
        "# This is where you create the NLP pipeline. load() will download the correct model (English).\n",
        "nlp = spacy.load(\"en_core_web_sm\")"
      ]
    },
    {
      "cell_type": "code",
      "execution_count": null,
      "metadata": {
        "id": "WcaeMUL2KTDg"
      },
      "outputs": [],
      "source": [
        "#Apply nlp pipeline to the column that has your sentences.\n",
        "data['tokenized'] = data['customer_review'].apply(nlp)"
      ]
    },
    {
      "cell_type": "code",
      "execution_count": null,
      "metadata": {
        "colab": {
          "base_uri": "https://localhost:8080/",
          "height": 206
        },
        "id": "7i6ai1I8KTDg",
        "outputId": "e86ada46-2c74-4be9-d620-5bcd385a3f46"
      },
      "outputs": [
        {
          "output_type": "execute_result",
          "data": {
            "text/plain": [
              "                                     customer_review  NPS Score  \\\n",
              "0   London to Izmir via Istanbul. First time I'd ...    Passive   \n",
              "1   Istanbul to Bucharest. We make our check in i...  Detractor   \n",
              "2   Rome to Prishtina via Istanbul. I flew with t...  Detractor   \n",
              "3   Flew on Turkish Airlines IAD-IST-KHI and retu...   Promoter   \n",
              "4   Mumbai to Dublin via Istanbul. Never book Tur...  Detractor   \n",
              "\n",
              "                                           tokenized  \n",
              "0  ( , London, to, Izmir, via, Istanbul, ., First...  \n",
              "1  ( , Istanbul, to, Bucharest, ., We, make, our,...  \n",
              "2  ( , Rome, to, Prishtina, via, Istanbul, ., I, ...  \n",
              "3  ( , Flew, on, Turkish, Airlines, IAD, -, IST, ...  \n",
              "4  ( , Mumbai, to, Dublin, via, Istanbul, ., Neve...  "
            ],
            "text/html": [
              "\n",
              "  <div id=\"df-69fbe57f-d441-48c3-8b53-1f992fe789be\" class=\"colab-df-container\">\n",
              "    <div>\n",
              "<style scoped>\n",
              "    .dataframe tbody tr th:only-of-type {\n",
              "        vertical-align: middle;\n",
              "    }\n",
              "\n",
              "    .dataframe tbody tr th {\n",
              "        vertical-align: top;\n",
              "    }\n",
              "\n",
              "    .dataframe thead th {\n",
              "        text-align: right;\n",
              "    }\n",
              "</style>\n",
              "<table border=\"1\" class=\"dataframe\">\n",
              "  <thead>\n",
              "    <tr style=\"text-align: right;\">\n",
              "      <th></th>\n",
              "      <th>customer_review</th>\n",
              "      <th>NPS Score</th>\n",
              "      <th>tokenized</th>\n",
              "    </tr>\n",
              "  </thead>\n",
              "  <tbody>\n",
              "    <tr>\n",
              "      <th>0</th>\n",
              "      <td>London to Izmir via Istanbul. First time I'd ...</td>\n",
              "      <td>Passive</td>\n",
              "      <td>( , London, to, Izmir, via, Istanbul, ., First...</td>\n",
              "    </tr>\n",
              "    <tr>\n",
              "      <th>1</th>\n",
              "      <td>Istanbul to Bucharest. We make our check in i...</td>\n",
              "      <td>Detractor</td>\n",
              "      <td>( , Istanbul, to, Bucharest, ., We, make, our,...</td>\n",
              "    </tr>\n",
              "    <tr>\n",
              "      <th>2</th>\n",
              "      <td>Rome to Prishtina via Istanbul. I flew with t...</td>\n",
              "      <td>Detractor</td>\n",
              "      <td>( , Rome, to, Prishtina, via, Istanbul, ., I, ...</td>\n",
              "    </tr>\n",
              "    <tr>\n",
              "      <th>3</th>\n",
              "      <td>Flew on Turkish Airlines IAD-IST-KHI and retu...</td>\n",
              "      <td>Promoter</td>\n",
              "      <td>( , Flew, on, Turkish, Airlines, IAD, -, IST, ...</td>\n",
              "    </tr>\n",
              "    <tr>\n",
              "      <th>4</th>\n",
              "      <td>Mumbai to Dublin via Istanbul. Never book Tur...</td>\n",
              "      <td>Detractor</td>\n",
              "      <td>( , Mumbai, to, Dublin, via, Istanbul, ., Neve...</td>\n",
              "    </tr>\n",
              "  </tbody>\n",
              "</table>\n",
              "</div>\n",
              "    <div class=\"colab-df-buttons\">\n",
              "\n",
              "  <div class=\"colab-df-container\">\n",
              "    <button class=\"colab-df-convert\" onclick=\"convertToInteractive('df-69fbe57f-d441-48c3-8b53-1f992fe789be')\"\n",
              "            title=\"Convert this dataframe to an interactive table.\"\n",
              "            style=\"display:none;\">\n",
              "\n",
              "  <svg xmlns=\"http://www.w3.org/2000/svg\" height=\"24px\" viewBox=\"0 -960 960 960\">\n",
              "    <path d=\"M120-120v-720h720v720H120Zm60-500h600v-160H180v160Zm220 220h160v-160H400v160Zm0 220h160v-160H400v160ZM180-400h160v-160H180v160Zm440 0h160v-160H620v160ZM180-180h160v-160H180v160Zm440 0h160v-160H620v160Z\"/>\n",
              "  </svg>\n",
              "    </button>\n",
              "\n",
              "  <style>\n",
              "    .colab-df-container {\n",
              "      display:flex;\n",
              "      gap: 12px;\n",
              "    }\n",
              "\n",
              "    .colab-df-convert {\n",
              "      background-color: #E8F0FE;\n",
              "      border: none;\n",
              "      border-radius: 50%;\n",
              "      cursor: pointer;\n",
              "      display: none;\n",
              "      fill: #1967D2;\n",
              "      height: 32px;\n",
              "      padding: 0 0 0 0;\n",
              "      width: 32px;\n",
              "    }\n",
              "\n",
              "    .colab-df-convert:hover {\n",
              "      background-color: #E2EBFA;\n",
              "      box-shadow: 0px 1px 2px rgba(60, 64, 67, 0.3), 0px 1px 3px 1px rgba(60, 64, 67, 0.15);\n",
              "      fill: #174EA6;\n",
              "    }\n",
              "\n",
              "    .colab-df-buttons div {\n",
              "      margin-bottom: 4px;\n",
              "    }\n",
              "\n",
              "    [theme=dark] .colab-df-convert {\n",
              "      background-color: #3B4455;\n",
              "      fill: #D2E3FC;\n",
              "    }\n",
              "\n",
              "    [theme=dark] .colab-df-convert:hover {\n",
              "      background-color: #434B5C;\n",
              "      box-shadow: 0px 1px 3px 1px rgba(0, 0, 0, 0.15);\n",
              "      filter: drop-shadow(0px 1px 2px rgba(0, 0, 0, 0.3));\n",
              "      fill: #FFFFFF;\n",
              "    }\n",
              "  </style>\n",
              "\n",
              "    <script>\n",
              "      const buttonEl =\n",
              "        document.querySelector('#df-69fbe57f-d441-48c3-8b53-1f992fe789be button.colab-df-convert');\n",
              "      buttonEl.style.display =\n",
              "        google.colab.kernel.accessAllowed ? 'block' : 'none';\n",
              "\n",
              "      async function convertToInteractive(key) {\n",
              "        const element = document.querySelector('#df-69fbe57f-d441-48c3-8b53-1f992fe789be');\n",
              "        const dataTable =\n",
              "          await google.colab.kernel.invokeFunction('convertToInteractive',\n",
              "                                                    [key], {});\n",
              "        if (!dataTable) return;\n",
              "\n",
              "        const docLinkHtml = 'Like what you see? Visit the ' +\n",
              "          '<a target=\"_blank\" href=https://colab.research.google.com/notebooks/data_table.ipynb>data table notebook</a>'\n",
              "          + ' to learn more about interactive tables.';\n",
              "        element.innerHTML = '';\n",
              "        dataTable['output_type'] = 'display_data';\n",
              "        await google.colab.output.renderOutput(dataTable, element);\n",
              "        const docLink = document.createElement('div');\n",
              "        docLink.innerHTML = docLinkHtml;\n",
              "        element.appendChild(docLink);\n",
              "      }\n",
              "    </script>\n",
              "  </div>\n",
              "\n",
              "\n",
              "<div id=\"df-c6e3164d-403f-4e76-972d-73245d836487\">\n",
              "  <button class=\"colab-df-quickchart\" onclick=\"quickchart('df-c6e3164d-403f-4e76-972d-73245d836487')\"\n",
              "            title=\"Suggest charts\"\n",
              "            style=\"display:none;\">\n",
              "\n",
              "<svg xmlns=\"http://www.w3.org/2000/svg\" height=\"24px\"viewBox=\"0 0 24 24\"\n",
              "     width=\"24px\">\n",
              "    <g>\n",
              "        <path d=\"M19 3H5c-1.1 0-2 .9-2 2v14c0 1.1.9 2 2 2h14c1.1 0 2-.9 2-2V5c0-1.1-.9-2-2-2zM9 17H7v-7h2v7zm4 0h-2V7h2v10zm4 0h-2v-4h2v4z\"/>\n",
              "    </g>\n",
              "</svg>\n",
              "  </button>\n",
              "\n",
              "<style>\n",
              "  .colab-df-quickchart {\n",
              "      --bg-color: #E8F0FE;\n",
              "      --fill-color: #1967D2;\n",
              "      --hover-bg-color: #E2EBFA;\n",
              "      --hover-fill-color: #174EA6;\n",
              "      --disabled-fill-color: #AAA;\n",
              "      --disabled-bg-color: #DDD;\n",
              "  }\n",
              "\n",
              "  [theme=dark] .colab-df-quickchart {\n",
              "      --bg-color: #3B4455;\n",
              "      --fill-color: #D2E3FC;\n",
              "      --hover-bg-color: #434B5C;\n",
              "      --hover-fill-color: #FFFFFF;\n",
              "      --disabled-bg-color: #3B4455;\n",
              "      --disabled-fill-color: #666;\n",
              "  }\n",
              "\n",
              "  .colab-df-quickchart {\n",
              "    background-color: var(--bg-color);\n",
              "    border: none;\n",
              "    border-radius: 50%;\n",
              "    cursor: pointer;\n",
              "    display: none;\n",
              "    fill: var(--fill-color);\n",
              "    height: 32px;\n",
              "    padding: 0;\n",
              "    width: 32px;\n",
              "  }\n",
              "\n",
              "  .colab-df-quickchart:hover {\n",
              "    background-color: var(--hover-bg-color);\n",
              "    box-shadow: 0 1px 2px rgba(60, 64, 67, 0.3), 0 1px 3px 1px rgba(60, 64, 67, 0.15);\n",
              "    fill: var(--button-hover-fill-color);\n",
              "  }\n",
              "\n",
              "  .colab-df-quickchart-complete:disabled,\n",
              "  .colab-df-quickchart-complete:disabled:hover {\n",
              "    background-color: var(--disabled-bg-color);\n",
              "    fill: var(--disabled-fill-color);\n",
              "    box-shadow: none;\n",
              "  }\n",
              "\n",
              "  .colab-df-spinner {\n",
              "    border: 2px solid var(--fill-color);\n",
              "    border-color: transparent;\n",
              "    border-bottom-color: var(--fill-color);\n",
              "    animation:\n",
              "      spin 1s steps(1) infinite;\n",
              "  }\n",
              "\n",
              "  @keyframes spin {\n",
              "    0% {\n",
              "      border-color: transparent;\n",
              "      border-bottom-color: var(--fill-color);\n",
              "      border-left-color: var(--fill-color);\n",
              "    }\n",
              "    20% {\n",
              "      border-color: transparent;\n",
              "      border-left-color: var(--fill-color);\n",
              "      border-top-color: var(--fill-color);\n",
              "    }\n",
              "    30% {\n",
              "      border-color: transparent;\n",
              "      border-left-color: var(--fill-color);\n",
              "      border-top-color: var(--fill-color);\n",
              "      border-right-color: var(--fill-color);\n",
              "    }\n",
              "    40% {\n",
              "      border-color: transparent;\n",
              "      border-right-color: var(--fill-color);\n",
              "      border-top-color: var(--fill-color);\n",
              "    }\n",
              "    60% {\n",
              "      border-color: transparent;\n",
              "      border-right-color: var(--fill-color);\n",
              "    }\n",
              "    80% {\n",
              "      border-color: transparent;\n",
              "      border-right-color: var(--fill-color);\n",
              "      border-bottom-color: var(--fill-color);\n",
              "    }\n",
              "    90% {\n",
              "      border-color: transparent;\n",
              "      border-bottom-color: var(--fill-color);\n",
              "    }\n",
              "  }\n",
              "</style>\n",
              "\n",
              "  <script>\n",
              "    async function quickchart(key) {\n",
              "      const quickchartButtonEl =\n",
              "        document.querySelector('#' + key + ' button');\n",
              "      quickchartButtonEl.disabled = true;  // To prevent multiple clicks.\n",
              "      quickchartButtonEl.classList.add('colab-df-spinner');\n",
              "      try {\n",
              "        const charts = await google.colab.kernel.invokeFunction(\n",
              "            'suggestCharts', [key], {});\n",
              "      } catch (error) {\n",
              "        console.error('Error during call to suggestCharts:', error);\n",
              "      }\n",
              "      quickchartButtonEl.classList.remove('colab-df-spinner');\n",
              "      quickchartButtonEl.classList.add('colab-df-quickchart-complete');\n",
              "    }\n",
              "    (() => {\n",
              "      let quickchartButtonEl =\n",
              "        document.querySelector('#df-c6e3164d-403f-4e76-972d-73245d836487 button');\n",
              "      quickchartButtonEl.style.display =\n",
              "        google.colab.kernel.accessAllowed ? 'block' : 'none';\n",
              "    })();\n",
              "  </script>\n",
              "</div>\n",
              "    </div>\n",
              "  </div>\n"
            ]
          },
          "metadata": {},
          "execution_count": 5
        }
      ],
      "source": [
        "data.head()"
      ]
    },
    {
      "cell_type": "markdown",
      "metadata": {
        "id": "BJV9PS83Yuqk"
      },
      "source": [
        "**Creating Empty Dataframes**"
      ]
    },
    {
      "cell_type": "code",
      "execution_count": null,
      "metadata": {
        "id": "qw0a_2ySyUo2"
      },
      "outputs": [],
      "source": [
        "dataset = pd.DataFrame(columns = ['Class', 'tokens'])\n",
        "derived_dataset1 = pd.DataFrame(columns = ['Class', 'pos'])\n",
        "derived_dataset2 = pd.DataFrame(columns = ['Class', 'pos-np'])"
      ]
    },
    {
      "cell_type": "markdown",
      "metadata": {
        "id": "pAYP91n7SlEL"
      },
      "source": [
        "### Preporcessing dataset"
      ]
    },
    {
      "cell_type": "code",
      "execution_count": null,
      "metadata": {
        "id": "X8FWbR9tS5Yz"
      },
      "outputs": [],
      "source": [
        "dataset['tokens'] = data['tokenized']\n",
        "dataset['Class'] = data['NPS Score']"
      ]
    },
    {
      "cell_type": "code",
      "execution_count": null,
      "metadata": {
        "colab": {
          "base_uri": "https://localhost:8080/",
          "height": 206
        },
        "id": "-d4P3q5QYOuW",
        "outputId": "64c075ed-0961-4f0e-adcc-88d45ab42ac4"
      },
      "outputs": [
        {
          "output_type": "execute_result",
          "data": {
            "text/plain": [
              "       Class                                             tokens\n",
              "0    Passive  ( , London, to, Izmir, via, Istanbul, ., First...\n",
              "1  Detractor  ( , Istanbul, to, Bucharest, ., We, make, our,...\n",
              "2  Detractor  ( , Rome, to, Prishtina, via, Istanbul, ., I, ...\n",
              "3   Promoter  ( , Flew, on, Turkish, Airlines, IAD, -, IST, ...\n",
              "4  Detractor  ( , Mumbai, to, Dublin, via, Istanbul, ., Neve..."
            ],
            "text/html": [
              "\n",
              "  <div id=\"df-6f7aa766-20c1-42aa-bc5d-c1dc3fc05e6d\" class=\"colab-df-container\">\n",
              "    <div>\n",
              "<style scoped>\n",
              "    .dataframe tbody tr th:only-of-type {\n",
              "        vertical-align: middle;\n",
              "    }\n",
              "\n",
              "    .dataframe tbody tr th {\n",
              "        vertical-align: top;\n",
              "    }\n",
              "\n",
              "    .dataframe thead th {\n",
              "        text-align: right;\n",
              "    }\n",
              "</style>\n",
              "<table border=\"1\" class=\"dataframe\">\n",
              "  <thead>\n",
              "    <tr style=\"text-align: right;\">\n",
              "      <th></th>\n",
              "      <th>Class</th>\n",
              "      <th>tokens</th>\n",
              "    </tr>\n",
              "  </thead>\n",
              "  <tbody>\n",
              "    <tr>\n",
              "      <th>0</th>\n",
              "      <td>Passive</td>\n",
              "      <td>( , London, to, Izmir, via, Istanbul, ., First...</td>\n",
              "    </tr>\n",
              "    <tr>\n",
              "      <th>1</th>\n",
              "      <td>Detractor</td>\n",
              "      <td>( , Istanbul, to, Bucharest, ., We, make, our,...</td>\n",
              "    </tr>\n",
              "    <tr>\n",
              "      <th>2</th>\n",
              "      <td>Detractor</td>\n",
              "      <td>( , Rome, to, Prishtina, via, Istanbul, ., I, ...</td>\n",
              "    </tr>\n",
              "    <tr>\n",
              "      <th>3</th>\n",
              "      <td>Promoter</td>\n",
              "      <td>( , Flew, on, Turkish, Airlines, IAD, -, IST, ...</td>\n",
              "    </tr>\n",
              "    <tr>\n",
              "      <th>4</th>\n",
              "      <td>Detractor</td>\n",
              "      <td>( , Mumbai, to, Dublin, via, Istanbul, ., Neve...</td>\n",
              "    </tr>\n",
              "  </tbody>\n",
              "</table>\n",
              "</div>\n",
              "    <div class=\"colab-df-buttons\">\n",
              "\n",
              "  <div class=\"colab-df-container\">\n",
              "    <button class=\"colab-df-convert\" onclick=\"convertToInteractive('df-6f7aa766-20c1-42aa-bc5d-c1dc3fc05e6d')\"\n",
              "            title=\"Convert this dataframe to an interactive table.\"\n",
              "            style=\"display:none;\">\n",
              "\n",
              "  <svg xmlns=\"http://www.w3.org/2000/svg\" height=\"24px\" viewBox=\"0 -960 960 960\">\n",
              "    <path d=\"M120-120v-720h720v720H120Zm60-500h600v-160H180v160Zm220 220h160v-160H400v160Zm0 220h160v-160H400v160ZM180-400h160v-160H180v160Zm440 0h160v-160H620v160ZM180-180h160v-160H180v160Zm440 0h160v-160H620v160Z\"/>\n",
              "  </svg>\n",
              "    </button>\n",
              "\n",
              "  <style>\n",
              "    .colab-df-container {\n",
              "      display:flex;\n",
              "      gap: 12px;\n",
              "    }\n",
              "\n",
              "    .colab-df-convert {\n",
              "      background-color: #E8F0FE;\n",
              "      border: none;\n",
              "      border-radius: 50%;\n",
              "      cursor: pointer;\n",
              "      display: none;\n",
              "      fill: #1967D2;\n",
              "      height: 32px;\n",
              "      padding: 0 0 0 0;\n",
              "      width: 32px;\n",
              "    }\n",
              "\n",
              "    .colab-df-convert:hover {\n",
              "      background-color: #E2EBFA;\n",
              "      box-shadow: 0px 1px 2px rgba(60, 64, 67, 0.3), 0px 1px 3px 1px rgba(60, 64, 67, 0.15);\n",
              "      fill: #174EA6;\n",
              "    }\n",
              "\n",
              "    .colab-df-buttons div {\n",
              "      margin-bottom: 4px;\n",
              "    }\n",
              "\n",
              "    [theme=dark] .colab-df-convert {\n",
              "      background-color: #3B4455;\n",
              "      fill: #D2E3FC;\n",
              "    }\n",
              "\n",
              "    [theme=dark] .colab-df-convert:hover {\n",
              "      background-color: #434B5C;\n",
              "      box-shadow: 0px 1px 3px 1px rgba(0, 0, 0, 0.15);\n",
              "      filter: drop-shadow(0px 1px 2px rgba(0, 0, 0, 0.3));\n",
              "      fill: #FFFFFF;\n",
              "    }\n",
              "  </style>\n",
              "\n",
              "    <script>\n",
              "      const buttonEl =\n",
              "        document.querySelector('#df-6f7aa766-20c1-42aa-bc5d-c1dc3fc05e6d button.colab-df-convert');\n",
              "      buttonEl.style.display =\n",
              "        google.colab.kernel.accessAllowed ? 'block' : 'none';\n",
              "\n",
              "      async function convertToInteractive(key) {\n",
              "        const element = document.querySelector('#df-6f7aa766-20c1-42aa-bc5d-c1dc3fc05e6d');\n",
              "        const dataTable =\n",
              "          await google.colab.kernel.invokeFunction('convertToInteractive',\n",
              "                                                    [key], {});\n",
              "        if (!dataTable) return;\n",
              "\n",
              "        const docLinkHtml = 'Like what you see? Visit the ' +\n",
              "          '<a target=\"_blank\" href=https://colab.research.google.com/notebooks/data_table.ipynb>data table notebook</a>'\n",
              "          + ' to learn more about interactive tables.';\n",
              "        element.innerHTML = '';\n",
              "        dataTable['output_type'] = 'display_data';\n",
              "        await google.colab.output.renderOutput(dataTable, element);\n",
              "        const docLink = document.createElement('div');\n",
              "        docLink.innerHTML = docLinkHtml;\n",
              "        element.appendChild(docLink);\n",
              "      }\n",
              "    </script>\n",
              "  </div>\n",
              "\n",
              "\n",
              "<div id=\"df-fcb90469-fcf6-4858-89e2-fe0eb6db4725\">\n",
              "  <button class=\"colab-df-quickchart\" onclick=\"quickchart('df-fcb90469-fcf6-4858-89e2-fe0eb6db4725')\"\n",
              "            title=\"Suggest charts\"\n",
              "            style=\"display:none;\">\n",
              "\n",
              "<svg xmlns=\"http://www.w3.org/2000/svg\" height=\"24px\"viewBox=\"0 0 24 24\"\n",
              "     width=\"24px\">\n",
              "    <g>\n",
              "        <path d=\"M19 3H5c-1.1 0-2 .9-2 2v14c0 1.1.9 2 2 2h14c1.1 0 2-.9 2-2V5c0-1.1-.9-2-2-2zM9 17H7v-7h2v7zm4 0h-2V7h2v10zm4 0h-2v-4h2v4z\"/>\n",
              "    </g>\n",
              "</svg>\n",
              "  </button>\n",
              "\n",
              "<style>\n",
              "  .colab-df-quickchart {\n",
              "      --bg-color: #E8F0FE;\n",
              "      --fill-color: #1967D2;\n",
              "      --hover-bg-color: #E2EBFA;\n",
              "      --hover-fill-color: #174EA6;\n",
              "      --disabled-fill-color: #AAA;\n",
              "      --disabled-bg-color: #DDD;\n",
              "  }\n",
              "\n",
              "  [theme=dark] .colab-df-quickchart {\n",
              "      --bg-color: #3B4455;\n",
              "      --fill-color: #D2E3FC;\n",
              "      --hover-bg-color: #434B5C;\n",
              "      --hover-fill-color: #FFFFFF;\n",
              "      --disabled-bg-color: #3B4455;\n",
              "      --disabled-fill-color: #666;\n",
              "  }\n",
              "\n",
              "  .colab-df-quickchart {\n",
              "    background-color: var(--bg-color);\n",
              "    border: none;\n",
              "    border-radius: 50%;\n",
              "    cursor: pointer;\n",
              "    display: none;\n",
              "    fill: var(--fill-color);\n",
              "    height: 32px;\n",
              "    padding: 0;\n",
              "    width: 32px;\n",
              "  }\n",
              "\n",
              "  .colab-df-quickchart:hover {\n",
              "    background-color: var(--hover-bg-color);\n",
              "    box-shadow: 0 1px 2px rgba(60, 64, 67, 0.3), 0 1px 3px 1px rgba(60, 64, 67, 0.15);\n",
              "    fill: var(--button-hover-fill-color);\n",
              "  }\n",
              "\n",
              "  .colab-df-quickchart-complete:disabled,\n",
              "  .colab-df-quickchart-complete:disabled:hover {\n",
              "    background-color: var(--disabled-bg-color);\n",
              "    fill: var(--disabled-fill-color);\n",
              "    box-shadow: none;\n",
              "  }\n",
              "\n",
              "  .colab-df-spinner {\n",
              "    border: 2px solid var(--fill-color);\n",
              "    border-color: transparent;\n",
              "    border-bottom-color: var(--fill-color);\n",
              "    animation:\n",
              "      spin 1s steps(1) infinite;\n",
              "  }\n",
              "\n",
              "  @keyframes spin {\n",
              "    0% {\n",
              "      border-color: transparent;\n",
              "      border-bottom-color: var(--fill-color);\n",
              "      border-left-color: var(--fill-color);\n",
              "    }\n",
              "    20% {\n",
              "      border-color: transparent;\n",
              "      border-left-color: var(--fill-color);\n",
              "      border-top-color: var(--fill-color);\n",
              "    }\n",
              "    30% {\n",
              "      border-color: transparent;\n",
              "      border-left-color: var(--fill-color);\n",
              "      border-top-color: var(--fill-color);\n",
              "      border-right-color: var(--fill-color);\n",
              "    }\n",
              "    40% {\n",
              "      border-color: transparent;\n",
              "      border-right-color: var(--fill-color);\n",
              "      border-top-color: var(--fill-color);\n",
              "    }\n",
              "    60% {\n",
              "      border-color: transparent;\n",
              "      border-right-color: var(--fill-color);\n",
              "    }\n",
              "    80% {\n",
              "      border-color: transparent;\n",
              "      border-right-color: var(--fill-color);\n",
              "      border-bottom-color: var(--fill-color);\n",
              "    }\n",
              "    90% {\n",
              "      border-color: transparent;\n",
              "      border-bottom-color: var(--fill-color);\n",
              "    }\n",
              "  }\n",
              "</style>\n",
              "\n",
              "  <script>\n",
              "    async function quickchart(key) {\n",
              "      const quickchartButtonEl =\n",
              "        document.querySelector('#' + key + ' button');\n",
              "      quickchartButtonEl.disabled = true;  // To prevent multiple clicks.\n",
              "      quickchartButtonEl.classList.add('colab-df-spinner');\n",
              "      try {\n",
              "        const charts = await google.colab.kernel.invokeFunction(\n",
              "            'suggestCharts', [key], {});\n",
              "      } catch (error) {\n",
              "        console.error('Error during call to suggestCharts:', error);\n",
              "      }\n",
              "      quickchartButtonEl.classList.remove('colab-df-spinner');\n",
              "      quickchartButtonEl.classList.add('colab-df-quickchart-complete');\n",
              "    }\n",
              "    (() => {\n",
              "      let quickchartButtonEl =\n",
              "        document.querySelector('#df-fcb90469-fcf6-4858-89e2-fe0eb6db4725 button');\n",
              "      quickchartButtonEl.style.display =\n",
              "        google.colab.kernel.accessAllowed ? 'block' : 'none';\n",
              "    })();\n",
              "  </script>\n",
              "</div>\n",
              "    </div>\n",
              "  </div>\n"
            ]
          },
          "metadata": {},
          "execution_count": 8
        }
      ],
      "source": [
        "dataset.head()"
      ]
    },
    {
      "cell_type": "code",
      "execution_count": null,
      "metadata": {
        "id": "s4FcU3OiTUmd"
      },
      "outputs": [],
      "source": [
        "# Convert Spacy Doc objects to strings\n",
        "X_strings = [\" \".join([token.text for token in doc]) for doc in dataset['tokens']]\n",
        "\n",
        "# Split the dataset into features (X) and labels (y)\n",
        "X = X_strings  # Use the converted strings\n",
        "y = dataset['Class']\n",
        "\n",
        "# Encode the target labels using LabelEncoder\n",
        "label_encoder = LabelEncoder()\n",
        "y_encoded_dataset = label_encoder.fit_transform(y)\n",
        "\n",
        "# Create a TfidfVectorizer to transform text data into numerical features\n",
        "tfidf_vectorizer = TfidfVectorizer(stop_words='english')\n",
        "X_tfidf_dataset = tfidf_vectorizer.fit_transform(X)"
      ]
    },
    {
      "cell_type": "markdown",
      "metadata": {
        "id": "gmZGwAEJSjE4"
      },
      "source": [
        "### Preposcessing derived_dataset1"
      ]
    },
    {
      "cell_type": "code",
      "execution_count": null,
      "metadata": {
        "id": "Yeak1tAOKTDi"
      },
      "outputs": [],
      "source": [
        "def get_pos(sentence, wanted_pos): #wanted_pos refers to the desired pos tagging\n",
        "    verbs = []\n",
        "    for token in sentence:\n",
        "        if token.pos_ in wanted_pos:\n",
        "            verbs.append(token.lemma_) # lemma returns a number. lemma_ return a string\n",
        "    return ' '.join(verbs) # return value is as a string and not a list for countVectorizer"
      ]
    },
    {
      "cell_type": "code",
      "execution_count": null,
      "metadata": {
        "id": "147NRzwKKTDj"
      },
      "outputs": [],
      "source": [
        "# we use the above function to fetch all the verbs. We store this information in our first derived dataset\n",
        "derived_dataset1['pos'] = data['tokenized'].apply(lambda sent : get_pos(sent, ['VERB']))\n",
        "derived_dataset1['Class'] = data['NPS Score']"
      ]
    },
    {
      "cell_type": "code",
      "execution_count": null,
      "metadata": {
        "colab": {
          "base_uri": "https://localhost:8080/",
          "height": 206
        },
        "id": "G_bUg_fVKTDk",
        "outputId": "09a05f66-22e8-4517-9e82-b4779804e4dc"
      },
      "outputs": [
        {
          "output_type": "execute_result",
          "data": {
            "text/plain": [
              "       Class                                                pos\n",
              "0    Passive  fly find delay miss speak give speak get make ...\n",
              "1  Detractor   make take go let ™ say overbooke have wait bring\n",
              "2  Detractor  fly say get fly have try ask connect relax lan...\n",
              "3   Promoter  return maintain fly leave use seem have show h...\n",
              "4  Detractor       travel get have ask stay care make keep wait"
            ],
            "text/html": [
              "\n",
              "  <div id=\"df-0ddf8c31-8fae-46ec-ba0a-2eabc751a9a0\" class=\"colab-df-container\">\n",
              "    <div>\n",
              "<style scoped>\n",
              "    .dataframe tbody tr th:only-of-type {\n",
              "        vertical-align: middle;\n",
              "    }\n",
              "\n",
              "    .dataframe tbody tr th {\n",
              "        vertical-align: top;\n",
              "    }\n",
              "\n",
              "    .dataframe thead th {\n",
              "        text-align: right;\n",
              "    }\n",
              "</style>\n",
              "<table border=\"1\" class=\"dataframe\">\n",
              "  <thead>\n",
              "    <tr style=\"text-align: right;\">\n",
              "      <th></th>\n",
              "      <th>Class</th>\n",
              "      <th>pos</th>\n",
              "    </tr>\n",
              "  </thead>\n",
              "  <tbody>\n",
              "    <tr>\n",
              "      <th>0</th>\n",
              "      <td>Passive</td>\n",
              "      <td>fly find delay miss speak give speak get make ...</td>\n",
              "    </tr>\n",
              "    <tr>\n",
              "      <th>1</th>\n",
              "      <td>Detractor</td>\n",
              "      <td>make take go let ™ say overbooke have wait bring</td>\n",
              "    </tr>\n",
              "    <tr>\n",
              "      <th>2</th>\n",
              "      <td>Detractor</td>\n",
              "      <td>fly say get fly have try ask connect relax lan...</td>\n",
              "    </tr>\n",
              "    <tr>\n",
              "      <th>3</th>\n",
              "      <td>Promoter</td>\n",
              "      <td>return maintain fly leave use seem have show h...</td>\n",
              "    </tr>\n",
              "    <tr>\n",
              "      <th>4</th>\n",
              "      <td>Detractor</td>\n",
              "      <td>travel get have ask stay care make keep wait</td>\n",
              "    </tr>\n",
              "  </tbody>\n",
              "</table>\n",
              "</div>\n",
              "    <div class=\"colab-df-buttons\">\n",
              "\n",
              "  <div class=\"colab-df-container\">\n",
              "    <button class=\"colab-df-convert\" onclick=\"convertToInteractive('df-0ddf8c31-8fae-46ec-ba0a-2eabc751a9a0')\"\n",
              "            title=\"Convert this dataframe to an interactive table.\"\n",
              "            style=\"display:none;\">\n",
              "\n",
              "  <svg xmlns=\"http://www.w3.org/2000/svg\" height=\"24px\" viewBox=\"0 -960 960 960\">\n",
              "    <path d=\"M120-120v-720h720v720H120Zm60-500h600v-160H180v160Zm220 220h160v-160H400v160Zm0 220h160v-160H400v160ZM180-400h160v-160H180v160Zm440 0h160v-160H620v160ZM180-180h160v-160H180v160Zm440 0h160v-160H620v160Z\"/>\n",
              "  </svg>\n",
              "    </button>\n",
              "\n",
              "  <style>\n",
              "    .colab-df-container {\n",
              "      display:flex;\n",
              "      gap: 12px;\n",
              "    }\n",
              "\n",
              "    .colab-df-convert {\n",
              "      background-color: #E8F0FE;\n",
              "      border: none;\n",
              "      border-radius: 50%;\n",
              "      cursor: pointer;\n",
              "      display: none;\n",
              "      fill: #1967D2;\n",
              "      height: 32px;\n",
              "      padding: 0 0 0 0;\n",
              "      width: 32px;\n",
              "    }\n",
              "\n",
              "    .colab-df-convert:hover {\n",
              "      background-color: #E2EBFA;\n",
              "      box-shadow: 0px 1px 2px rgba(60, 64, 67, 0.3), 0px 1px 3px 1px rgba(60, 64, 67, 0.15);\n",
              "      fill: #174EA6;\n",
              "    }\n",
              "\n",
              "    .colab-df-buttons div {\n",
              "      margin-bottom: 4px;\n",
              "    }\n",
              "\n",
              "    [theme=dark] .colab-df-convert {\n",
              "      background-color: #3B4455;\n",
              "      fill: #D2E3FC;\n",
              "    }\n",
              "\n",
              "    [theme=dark] .colab-df-convert:hover {\n",
              "      background-color: #434B5C;\n",
              "      box-shadow: 0px 1px 3px 1px rgba(0, 0, 0, 0.15);\n",
              "      filter: drop-shadow(0px 1px 2px rgba(0, 0, 0, 0.3));\n",
              "      fill: #FFFFFF;\n",
              "    }\n",
              "  </style>\n",
              "\n",
              "    <script>\n",
              "      const buttonEl =\n",
              "        document.querySelector('#df-0ddf8c31-8fae-46ec-ba0a-2eabc751a9a0 button.colab-df-convert');\n",
              "      buttonEl.style.display =\n",
              "        google.colab.kernel.accessAllowed ? 'block' : 'none';\n",
              "\n",
              "      async function convertToInteractive(key) {\n",
              "        const element = document.querySelector('#df-0ddf8c31-8fae-46ec-ba0a-2eabc751a9a0');\n",
              "        const dataTable =\n",
              "          await google.colab.kernel.invokeFunction('convertToInteractive',\n",
              "                                                    [key], {});\n",
              "        if (!dataTable) return;\n",
              "\n",
              "        const docLinkHtml = 'Like what you see? Visit the ' +\n",
              "          '<a target=\"_blank\" href=https://colab.research.google.com/notebooks/data_table.ipynb>data table notebook</a>'\n",
              "          + ' to learn more about interactive tables.';\n",
              "        element.innerHTML = '';\n",
              "        dataTable['output_type'] = 'display_data';\n",
              "        await google.colab.output.renderOutput(dataTable, element);\n",
              "        const docLink = document.createElement('div');\n",
              "        docLink.innerHTML = docLinkHtml;\n",
              "        element.appendChild(docLink);\n",
              "      }\n",
              "    </script>\n",
              "  </div>\n",
              "\n",
              "\n",
              "<div id=\"df-314df809-7575-4a84-a1ec-50917c65bcf4\">\n",
              "  <button class=\"colab-df-quickchart\" onclick=\"quickchart('df-314df809-7575-4a84-a1ec-50917c65bcf4')\"\n",
              "            title=\"Suggest charts\"\n",
              "            style=\"display:none;\">\n",
              "\n",
              "<svg xmlns=\"http://www.w3.org/2000/svg\" height=\"24px\"viewBox=\"0 0 24 24\"\n",
              "     width=\"24px\">\n",
              "    <g>\n",
              "        <path d=\"M19 3H5c-1.1 0-2 .9-2 2v14c0 1.1.9 2 2 2h14c1.1 0 2-.9 2-2V5c0-1.1-.9-2-2-2zM9 17H7v-7h2v7zm4 0h-2V7h2v10zm4 0h-2v-4h2v4z\"/>\n",
              "    </g>\n",
              "</svg>\n",
              "  </button>\n",
              "\n",
              "<style>\n",
              "  .colab-df-quickchart {\n",
              "      --bg-color: #E8F0FE;\n",
              "      --fill-color: #1967D2;\n",
              "      --hover-bg-color: #E2EBFA;\n",
              "      --hover-fill-color: #174EA6;\n",
              "      --disabled-fill-color: #AAA;\n",
              "      --disabled-bg-color: #DDD;\n",
              "  }\n",
              "\n",
              "  [theme=dark] .colab-df-quickchart {\n",
              "      --bg-color: #3B4455;\n",
              "      --fill-color: #D2E3FC;\n",
              "      --hover-bg-color: #434B5C;\n",
              "      --hover-fill-color: #FFFFFF;\n",
              "      --disabled-bg-color: #3B4455;\n",
              "      --disabled-fill-color: #666;\n",
              "  }\n",
              "\n",
              "  .colab-df-quickchart {\n",
              "    background-color: var(--bg-color);\n",
              "    border: none;\n",
              "    border-radius: 50%;\n",
              "    cursor: pointer;\n",
              "    display: none;\n",
              "    fill: var(--fill-color);\n",
              "    height: 32px;\n",
              "    padding: 0;\n",
              "    width: 32px;\n",
              "  }\n",
              "\n",
              "  .colab-df-quickchart:hover {\n",
              "    background-color: var(--hover-bg-color);\n",
              "    box-shadow: 0 1px 2px rgba(60, 64, 67, 0.3), 0 1px 3px 1px rgba(60, 64, 67, 0.15);\n",
              "    fill: var(--button-hover-fill-color);\n",
              "  }\n",
              "\n",
              "  .colab-df-quickchart-complete:disabled,\n",
              "  .colab-df-quickchart-complete:disabled:hover {\n",
              "    background-color: var(--disabled-bg-color);\n",
              "    fill: var(--disabled-fill-color);\n",
              "    box-shadow: none;\n",
              "  }\n",
              "\n",
              "  .colab-df-spinner {\n",
              "    border: 2px solid var(--fill-color);\n",
              "    border-color: transparent;\n",
              "    border-bottom-color: var(--fill-color);\n",
              "    animation:\n",
              "      spin 1s steps(1) infinite;\n",
              "  }\n",
              "\n",
              "  @keyframes spin {\n",
              "    0% {\n",
              "      border-color: transparent;\n",
              "      border-bottom-color: var(--fill-color);\n",
              "      border-left-color: var(--fill-color);\n",
              "    }\n",
              "    20% {\n",
              "      border-color: transparent;\n",
              "      border-left-color: var(--fill-color);\n",
              "      border-top-color: var(--fill-color);\n",
              "    }\n",
              "    30% {\n",
              "      border-color: transparent;\n",
              "      border-left-color: var(--fill-color);\n",
              "      border-top-color: var(--fill-color);\n",
              "      border-right-color: var(--fill-color);\n",
              "    }\n",
              "    40% {\n",
              "      border-color: transparent;\n",
              "      border-right-color: var(--fill-color);\n",
              "      border-top-color: var(--fill-color);\n",
              "    }\n",
              "    60% {\n",
              "      border-color: transparent;\n",
              "      border-right-color: var(--fill-color);\n",
              "    }\n",
              "    80% {\n",
              "      border-color: transparent;\n",
              "      border-right-color: var(--fill-color);\n",
              "      border-bottom-color: var(--fill-color);\n",
              "    }\n",
              "    90% {\n",
              "      border-color: transparent;\n",
              "      border-bottom-color: var(--fill-color);\n",
              "    }\n",
              "  }\n",
              "</style>\n",
              "\n",
              "  <script>\n",
              "    async function quickchart(key) {\n",
              "      const quickchartButtonEl =\n",
              "        document.querySelector('#' + key + ' button');\n",
              "      quickchartButtonEl.disabled = true;  // To prevent multiple clicks.\n",
              "      quickchartButtonEl.classList.add('colab-df-spinner');\n",
              "      try {\n",
              "        const charts = await google.colab.kernel.invokeFunction(\n",
              "            'suggestCharts', [key], {});\n",
              "      } catch (error) {\n",
              "        console.error('Error during call to suggestCharts:', error);\n",
              "      }\n",
              "      quickchartButtonEl.classList.remove('colab-df-spinner');\n",
              "      quickchartButtonEl.classList.add('colab-df-quickchart-complete');\n",
              "    }\n",
              "    (() => {\n",
              "      let quickchartButtonEl =\n",
              "        document.querySelector('#df-314df809-7575-4a84-a1ec-50917c65bcf4 button');\n",
              "      quickchartButtonEl.style.display =\n",
              "        google.colab.kernel.accessAllowed ? 'block' : 'none';\n",
              "    })();\n",
              "  </script>\n",
              "</div>\n",
              "    </div>\n",
              "  </div>\n"
            ]
          },
          "metadata": {},
          "execution_count": 12
        }
      ],
      "source": [
        "derived_dataset1.head()"
      ]
    },
    {
      "cell_type": "code",
      "execution_count": null,
      "metadata": {
        "id": "kwiBLHIDUQ-v"
      },
      "outputs": [],
      "source": [
        "# Split the dataset into features (X) and labels (y)\n",
        "X1 = derived_dataset1['pos']\n",
        "y1 = derived_dataset1['Class']\n",
        "\n",
        "# Encode the target labels using LabelEncoder\n",
        "label_encoder = LabelEncoder()\n",
        "y_encoded_derived_dataset1 = label_encoder.fit_transform(y1)\n",
        "\n",
        "# Create a TfidfVectorizer to transform text data into numerical features\n",
        "tfidf_vectorizer = TfidfVectorizer(stop_words='english')\n",
        "X_tfidf_derived_dataset1 = tfidf_vectorizer.fit_transform(X1)"
      ]
    },
    {
      "cell_type": "markdown",
      "metadata": {
        "id": "71U3W9TcNWjF"
      },
      "source": [
        "### Preporcessing derived_dataset2"
      ]
    },
    {
      "cell_type": "code",
      "execution_count": null,
      "metadata": {
        "id": "dAM2eMyvNbsP"
      },
      "outputs": [],
      "source": [
        "def get_named_entities_and_pos(sentence):\n",
        "    entities = []\n",
        "    selected_entities = [ 'ORG', 'GPE', 'MONEY', 'DATE']\n",
        "    pos_tags = ['NOUN', 'ADJ']\n",
        "\n",
        "    doc = nlp(sentence)\n",
        "\n",
        "    # Extract named entities\n",
        "    for ent in doc.ents:\n",
        "        if ent.label_ in selected_entities:\n",
        "            entities.append(ent.text)\n",
        "            entities.append(ent.label_)\n",
        "\n",
        "    # Extract POS tags\n",
        "    pos_tokens = [token.lemma_ for token in doc if token.pos_ in pos_tags]\n",
        "    entities.extend(pos_tokens)\n",
        "\n",
        "    return ' '.join(entities)"
      ]
    },
    {
      "cell_type": "code",
      "execution_count": null,
      "metadata": {
        "id": "Lw0Pd04YNiaJ"
      },
      "outputs": [],
      "source": [
        "# Apply the function to create Derived-Dataset-2\n",
        "derived_dataset2['pos-np'] = data['customer_review'].apply(lambda sent: get_named_entities_and_pos(sent))\n",
        "\n",
        "# Assign 'NPS Score' to 'Class' column\n",
        "derived_dataset2['Class'] = data['NPS Score']"
      ]
    },
    {
      "cell_type": "code",
      "execution_count": null,
      "metadata": {
        "colab": {
          "base_uri": "https://localhost:8080/",
          "height": 206
        },
        "id": "doZHfw5yatmg",
        "outputId": "2b11e449-6745-4a20-e7e5-9c8b6aede6e0"
      },
      "outputs": [
        {
          "output_type": "execute_result",
          "data": {
            "text/plain": [
              "       Class                                             pos-np\n",
              "0    Passive  London GPE Istanbul GPE LHR ORG Istanbul GPE U...\n",
              "1  Detractor  Istanbul GPE check airport luggage gate gate s...\n",
              "2  Detractor  Rome GPE Prishtina GPE Istanbul GPE the past y...\n",
              "3   Promoter  Turkish Airlines ORG Turkish Airlines ORG 2007...\n",
              "4  Detractor  Mumbai GPE Dublin GPE Istanbul GPE Dublin GPE ..."
            ],
            "text/html": [
              "\n",
              "  <div id=\"df-e52832a7-36d0-44aa-b2f2-8c77636e55b4\" class=\"colab-df-container\">\n",
              "    <div>\n",
              "<style scoped>\n",
              "    .dataframe tbody tr th:only-of-type {\n",
              "        vertical-align: middle;\n",
              "    }\n",
              "\n",
              "    .dataframe tbody tr th {\n",
              "        vertical-align: top;\n",
              "    }\n",
              "\n",
              "    .dataframe thead th {\n",
              "        text-align: right;\n",
              "    }\n",
              "</style>\n",
              "<table border=\"1\" class=\"dataframe\">\n",
              "  <thead>\n",
              "    <tr style=\"text-align: right;\">\n",
              "      <th></th>\n",
              "      <th>Class</th>\n",
              "      <th>pos-np</th>\n",
              "    </tr>\n",
              "  </thead>\n",
              "  <tbody>\n",
              "    <tr>\n",
              "      <th>0</th>\n",
              "      <td>Passive</td>\n",
              "      <td>London GPE Istanbul GPE LHR ORG Istanbul GPE U...</td>\n",
              "    </tr>\n",
              "    <tr>\n",
              "      <th>1</th>\n",
              "      <td>Detractor</td>\n",
              "      <td>Istanbul GPE check airport luggage gate gate s...</td>\n",
              "    </tr>\n",
              "    <tr>\n",
              "      <th>2</th>\n",
              "      <td>Detractor</td>\n",
              "      <td>Rome GPE Prishtina GPE Istanbul GPE the past y...</td>\n",
              "    </tr>\n",
              "    <tr>\n",
              "      <th>3</th>\n",
              "      <td>Promoter</td>\n",
              "      <td>Turkish Airlines ORG Turkish Airlines ORG 2007...</td>\n",
              "    </tr>\n",
              "    <tr>\n",
              "      <th>4</th>\n",
              "      <td>Detractor</td>\n",
              "      <td>Mumbai GPE Dublin GPE Istanbul GPE Dublin GPE ...</td>\n",
              "    </tr>\n",
              "  </tbody>\n",
              "</table>\n",
              "</div>\n",
              "    <div class=\"colab-df-buttons\">\n",
              "\n",
              "  <div class=\"colab-df-container\">\n",
              "    <button class=\"colab-df-convert\" onclick=\"convertToInteractive('df-e52832a7-36d0-44aa-b2f2-8c77636e55b4')\"\n",
              "            title=\"Convert this dataframe to an interactive table.\"\n",
              "            style=\"display:none;\">\n",
              "\n",
              "  <svg xmlns=\"http://www.w3.org/2000/svg\" height=\"24px\" viewBox=\"0 -960 960 960\">\n",
              "    <path d=\"M120-120v-720h720v720H120Zm60-500h600v-160H180v160Zm220 220h160v-160H400v160Zm0 220h160v-160H400v160ZM180-400h160v-160H180v160Zm440 0h160v-160H620v160ZM180-180h160v-160H180v160Zm440 0h160v-160H620v160Z\"/>\n",
              "  </svg>\n",
              "    </button>\n",
              "\n",
              "  <style>\n",
              "    .colab-df-container {\n",
              "      display:flex;\n",
              "      gap: 12px;\n",
              "    }\n",
              "\n",
              "    .colab-df-convert {\n",
              "      background-color: #E8F0FE;\n",
              "      border: none;\n",
              "      border-radius: 50%;\n",
              "      cursor: pointer;\n",
              "      display: none;\n",
              "      fill: #1967D2;\n",
              "      height: 32px;\n",
              "      padding: 0 0 0 0;\n",
              "      width: 32px;\n",
              "    }\n",
              "\n",
              "    .colab-df-convert:hover {\n",
              "      background-color: #E2EBFA;\n",
              "      box-shadow: 0px 1px 2px rgba(60, 64, 67, 0.3), 0px 1px 3px 1px rgba(60, 64, 67, 0.15);\n",
              "      fill: #174EA6;\n",
              "    }\n",
              "\n",
              "    .colab-df-buttons div {\n",
              "      margin-bottom: 4px;\n",
              "    }\n",
              "\n",
              "    [theme=dark] .colab-df-convert {\n",
              "      background-color: #3B4455;\n",
              "      fill: #D2E3FC;\n",
              "    }\n",
              "\n",
              "    [theme=dark] .colab-df-convert:hover {\n",
              "      background-color: #434B5C;\n",
              "      box-shadow: 0px 1px 3px 1px rgba(0, 0, 0, 0.15);\n",
              "      filter: drop-shadow(0px 1px 2px rgba(0, 0, 0, 0.3));\n",
              "      fill: #FFFFFF;\n",
              "    }\n",
              "  </style>\n",
              "\n",
              "    <script>\n",
              "      const buttonEl =\n",
              "        document.querySelector('#df-e52832a7-36d0-44aa-b2f2-8c77636e55b4 button.colab-df-convert');\n",
              "      buttonEl.style.display =\n",
              "        google.colab.kernel.accessAllowed ? 'block' : 'none';\n",
              "\n",
              "      async function convertToInteractive(key) {\n",
              "        const element = document.querySelector('#df-e52832a7-36d0-44aa-b2f2-8c77636e55b4');\n",
              "        const dataTable =\n",
              "          await google.colab.kernel.invokeFunction('convertToInteractive',\n",
              "                                                    [key], {});\n",
              "        if (!dataTable) return;\n",
              "\n",
              "        const docLinkHtml = 'Like what you see? Visit the ' +\n",
              "          '<a target=\"_blank\" href=https://colab.research.google.com/notebooks/data_table.ipynb>data table notebook</a>'\n",
              "          + ' to learn more about interactive tables.';\n",
              "        element.innerHTML = '';\n",
              "        dataTable['output_type'] = 'display_data';\n",
              "        await google.colab.output.renderOutput(dataTable, element);\n",
              "        const docLink = document.createElement('div');\n",
              "        docLink.innerHTML = docLinkHtml;\n",
              "        element.appendChild(docLink);\n",
              "      }\n",
              "    </script>\n",
              "  </div>\n",
              "\n",
              "\n",
              "<div id=\"df-dbb5f803-b90f-4a8e-87c6-49842cde1029\">\n",
              "  <button class=\"colab-df-quickchart\" onclick=\"quickchart('df-dbb5f803-b90f-4a8e-87c6-49842cde1029')\"\n",
              "            title=\"Suggest charts\"\n",
              "            style=\"display:none;\">\n",
              "\n",
              "<svg xmlns=\"http://www.w3.org/2000/svg\" height=\"24px\"viewBox=\"0 0 24 24\"\n",
              "     width=\"24px\">\n",
              "    <g>\n",
              "        <path d=\"M19 3H5c-1.1 0-2 .9-2 2v14c0 1.1.9 2 2 2h14c1.1 0 2-.9 2-2V5c0-1.1-.9-2-2-2zM9 17H7v-7h2v7zm4 0h-2V7h2v10zm4 0h-2v-4h2v4z\"/>\n",
              "    </g>\n",
              "</svg>\n",
              "  </button>\n",
              "\n",
              "<style>\n",
              "  .colab-df-quickchart {\n",
              "      --bg-color: #E8F0FE;\n",
              "      --fill-color: #1967D2;\n",
              "      --hover-bg-color: #E2EBFA;\n",
              "      --hover-fill-color: #174EA6;\n",
              "      --disabled-fill-color: #AAA;\n",
              "      --disabled-bg-color: #DDD;\n",
              "  }\n",
              "\n",
              "  [theme=dark] .colab-df-quickchart {\n",
              "      --bg-color: #3B4455;\n",
              "      --fill-color: #D2E3FC;\n",
              "      --hover-bg-color: #434B5C;\n",
              "      --hover-fill-color: #FFFFFF;\n",
              "      --disabled-bg-color: #3B4455;\n",
              "      --disabled-fill-color: #666;\n",
              "  }\n",
              "\n",
              "  .colab-df-quickchart {\n",
              "    background-color: var(--bg-color);\n",
              "    border: none;\n",
              "    border-radius: 50%;\n",
              "    cursor: pointer;\n",
              "    display: none;\n",
              "    fill: var(--fill-color);\n",
              "    height: 32px;\n",
              "    padding: 0;\n",
              "    width: 32px;\n",
              "  }\n",
              "\n",
              "  .colab-df-quickchart:hover {\n",
              "    background-color: var(--hover-bg-color);\n",
              "    box-shadow: 0 1px 2px rgba(60, 64, 67, 0.3), 0 1px 3px 1px rgba(60, 64, 67, 0.15);\n",
              "    fill: var(--button-hover-fill-color);\n",
              "  }\n",
              "\n",
              "  .colab-df-quickchart-complete:disabled,\n",
              "  .colab-df-quickchart-complete:disabled:hover {\n",
              "    background-color: var(--disabled-bg-color);\n",
              "    fill: var(--disabled-fill-color);\n",
              "    box-shadow: none;\n",
              "  }\n",
              "\n",
              "  .colab-df-spinner {\n",
              "    border: 2px solid var(--fill-color);\n",
              "    border-color: transparent;\n",
              "    border-bottom-color: var(--fill-color);\n",
              "    animation:\n",
              "      spin 1s steps(1) infinite;\n",
              "  }\n",
              "\n",
              "  @keyframes spin {\n",
              "    0% {\n",
              "      border-color: transparent;\n",
              "      border-bottom-color: var(--fill-color);\n",
              "      border-left-color: var(--fill-color);\n",
              "    }\n",
              "    20% {\n",
              "      border-color: transparent;\n",
              "      border-left-color: var(--fill-color);\n",
              "      border-top-color: var(--fill-color);\n",
              "    }\n",
              "    30% {\n",
              "      border-color: transparent;\n",
              "      border-left-color: var(--fill-color);\n",
              "      border-top-color: var(--fill-color);\n",
              "      border-right-color: var(--fill-color);\n",
              "    }\n",
              "    40% {\n",
              "      border-color: transparent;\n",
              "      border-right-color: var(--fill-color);\n",
              "      border-top-color: var(--fill-color);\n",
              "    }\n",
              "    60% {\n",
              "      border-color: transparent;\n",
              "      border-right-color: var(--fill-color);\n",
              "    }\n",
              "    80% {\n",
              "      border-color: transparent;\n",
              "      border-right-color: var(--fill-color);\n",
              "      border-bottom-color: var(--fill-color);\n",
              "    }\n",
              "    90% {\n",
              "      border-color: transparent;\n",
              "      border-bottom-color: var(--fill-color);\n",
              "    }\n",
              "  }\n",
              "</style>\n",
              "\n",
              "  <script>\n",
              "    async function quickchart(key) {\n",
              "      const quickchartButtonEl =\n",
              "        document.querySelector('#' + key + ' button');\n",
              "      quickchartButtonEl.disabled = true;  // To prevent multiple clicks.\n",
              "      quickchartButtonEl.classList.add('colab-df-spinner');\n",
              "      try {\n",
              "        const charts = await google.colab.kernel.invokeFunction(\n",
              "            'suggestCharts', [key], {});\n",
              "      } catch (error) {\n",
              "        console.error('Error during call to suggestCharts:', error);\n",
              "      }\n",
              "      quickchartButtonEl.classList.remove('colab-df-spinner');\n",
              "      quickchartButtonEl.classList.add('colab-df-quickchart-complete');\n",
              "    }\n",
              "    (() => {\n",
              "      let quickchartButtonEl =\n",
              "        document.querySelector('#df-dbb5f803-b90f-4a8e-87c6-49842cde1029 button');\n",
              "      quickchartButtonEl.style.display =\n",
              "        google.colab.kernel.accessAllowed ? 'block' : 'none';\n",
              "    })();\n",
              "  </script>\n",
              "</div>\n",
              "    </div>\n",
              "  </div>\n"
            ]
          },
          "metadata": {},
          "execution_count": 16
        }
      ],
      "source": [
        "derived_dataset2.head()"
      ]
    },
    {
      "cell_type": "code",
      "execution_count": null,
      "metadata": {
        "id": "4Qxax3gqNo7Z"
      },
      "outputs": [],
      "source": [
        "# Split the dataset into features (X) and labels (y)\n",
        "X2 = derived_dataset2['pos-np']\n",
        "y2 = derived_dataset2['Class']\n",
        "\n",
        "# Encode the target labels using LabelEncoder\n",
        "label_encoder = LabelEncoder()\n",
        "y_encoded_derived_dataset2 = label_encoder.fit_transform(y2)\n",
        "\n",
        "# Create a TfidfVectorizer to transform text data into numerical features\n",
        "tfidf_vectorizer = TfidfVectorizer(stop_words='english')\n",
        "X_tfidf_derived_dataset2 = tfidf_vectorizer.fit_transform(X2)"
      ]
    },
    {
      "cell_type": "code",
      "source": [
        "warnings.filterwarnings(\"ignore\")"
      ],
      "metadata": {
        "id": "VaZqHUmd8rui"
      },
      "execution_count": null,
      "outputs": []
    },
    {
      "cell_type": "markdown",
      "metadata": {
        "id": "oUTvYldiNiDE"
      },
      "source": [
        "\n",
        "\n",
        "---\n",
        "\n"
      ]
    },
    {
      "cell_type": "markdown",
      "metadata": {
        "id": "THpqp0OfNJHg"
      },
      "source": [
        "## Building different Models"
      ]
    },
    {
      "cell_type": "markdown",
      "metadata": {
        "id": "4igK8ht9eMhZ"
      },
      "source": [
        "The function builds and evaluates several machine learning models using different datasets.\n",
        "\n",
        "Three main datasets are used (dataset, derived_dataset1, and derived_dataset2), and logistic regression and multilayer perceptron (MLP) models are applied to each dataset with variations in hyperparameters (e.g., hidden layer size and activation function).\n",
        "\n",
        "Evaluation metrics such as precision, recall, F1-score, and accuracy are calculated for each model using stratified 4-fold cross-validation. Confusion matrices are plotted for each model.\n"
      ]
    },
    {
      "cell_type": "code",
      "execution_count": null,
      "metadata": {
        "id": "DRITKehNN1Nt"
      },
      "outputs": [],
      "source": [
        "# Function to evaluate model and print metrics\n",
        "a = {}\n",
        "\n",
        "def evaluate_model(model, X, y, model_name, counter):\n",
        "    # Initialize StratifiedKFold for cross-validation\n",
        "    skf = StratifiedKFold(n_splits=4, shuffle=True, random_state=42)\n",
        "\n",
        "    # Lists to store results for each fold\n",
        "    precision_micro_list, recall_micro_list, fscore_micro_list, accuracy_list = [], [], [], []\n",
        "    precision_macro_list, recall_macro_list, fscore_macro_list = [], [], []\n",
        "\n",
        "    # Iterate over folds in StratifiedKFold\n",
        "    for train_index, test_index in skf.split(X, y):\n",
        "        # Split dataset into training and testing sets\n",
        "        X_train, X_test = X[train_index], X[test_index]\n",
        "        y_train, y_test = y[train_index], y[test_index]\n",
        "\n",
        "        # Fit the model on the training data\n",
        "        model.fit(X_train, y_train)\n",
        "\n",
        "        # Predict on the testing data\n",
        "        y_pred = model.predict(X_test)\n",
        "\n",
        "        # Calculate metrics for each fold\n",
        "        precision_micro, recall_micro, fscore_micro, _ = precision_recall_fscore_support(y_test, y_pred, average='micro')\n",
        "        precision_macro, recall_macro, fscore_macro, _ = precision_recall_fscore_support(y_test, y_pred, average='macro')\n",
        "        accuracy = accuracy_score(y_test, y_pred)\n",
        "\n",
        "        # Append metrics to respective lists\n",
        "        precision_micro_list.append(precision_micro)\n",
        "        recall_micro_list.append(recall_micro)\n",
        "        fscore_micro_list.append(fscore_micro)\n",
        "        accuracy_list.append(accuracy)\n",
        "\n",
        "        precision_macro_list.append(precision_macro)\n",
        "        recall_macro_list.append(recall_macro)\n",
        "        fscore_macro_list.append(fscore_macro)\n",
        "\n",
        "    # Calculate and print micro averages\n",
        "    avg_precision_micro = np.mean(precision_micro_list)\n",
        "    avg_recall_micro = np.mean(recall_micro_list)\n",
        "    avg_fscore_micro = np.mean(fscore_micro_list)\n",
        "    avg_accuracy = np.mean(accuracy_list)\n",
        "\n",
        "    print(f\"\\nMicro Averages for {model_name}:\")\n",
        "    print(f\"Average Precision (Micro): {avg_precision_micro:.2f}\")\n",
        "    print(f\"Average Recall (Micro): {avg_recall_micro:.2f}\")\n",
        "    print(f\"Average F1-score (Micro): {avg_fscore_micro:.2f}\")\n",
        "\n",
        "    # Calculate and print macro averages\n",
        "    avg_precision_macro = np.mean(precision_macro_list)\n",
        "    avg_recall_macro = np.mean(recall_macro_list)\n",
        "    avg_fscore_macro = np.mean(fscore_macro_list)\n",
        "\n",
        "    print(f\"\\nMacro Averages for {model_name}:\")\n",
        "    print(f\"Average Precision (Macro): {avg_precision_macro:.2f}\")\n",
        "    print(f\"Average Recall (Macro): {avg_recall_macro:.2f}\")\n",
        "    print(f\"Average F1-score (Macro): {avg_fscore_macro:.2f}\")\n",
        "\n",
        "    # Print average accuracy\n",
        "    print(f\"\\nAverage Accuracy for {model_name}:\")\n",
        "    print(f\"Average Accuracy: {avg_accuracy:.2f}\")\n",
        "    temp = \"Experiment \"+str(counter)\n",
        "    a[temp]  = avg_accuracy\n",
        "\n",
        "    # Plot confusion matrix\n",
        "    cm = confusion_matrix(y_test, y_pred)\n",
        "    plt.figure(figsize=(4, 4))\n",
        "    sns.heatmap(cm, annot=True, fmt=\"d\", cmap=\"Blues\", xticklabels=model.classes_, yticklabels=model.classes_)\n",
        "    plt.title(f\"Confusion Matrix for {model_name}\")\n",
        "    plt.show()\n"
      ]
    },
    {
      "cell_type": "markdown",
      "source": [
        "# Models Used\n",
        "\n",
        "#### 1. Logistic Regression:\n",
        "`\n",
        "LogisticRegression(random_state=42, max_iter=1000)\n",
        "`\n",
        "- **Purpose:** Logistic Regression is a linear model used for binary and multiclass classification tasks.\n",
        "- **Parameters:**\n",
        "  - `random_state=42`: It ensures reproducibility by initializing the random number generator.\n",
        "  - `max_iter=1000`: Maximum number of iterations for the solver to converge. It is set to a higher value (1000) to ensure convergence.\n",
        "- **Explanation:**\n",
        " Logistic Regression is a linear model that works well for linearly separable problems.\n",
        "\n",
        "#### 2. MLPClassifier (Default Parameters):\n",
        "`\n",
        "MLPClassifier(random_state=42, max_iter=500)\n",
        "`\n",
        "- **Purpose:** MLPClassifier is a Multilayer Perceptron (MLP) model, which is a type of neural network used for various machine learning tasks.\n",
        "- **Parameters:**\n",
        "  - `random_state=42`: Ensures reproducibility by initializing the random number generator.\n",
        "  - `max_iter=500`: Maximum number of iterations for optimization algorithms. It helps control the training time.\n",
        "- **Explanation:**\n",
        "MLPClassifier is a neural network model capable of handling complex, non-linear relationships.\n",
        "\n",
        "#### 3. MLPClassifier with Hidden Layer Sizes:\n",
        "`\n",
        "MLPClassifier(hidden_layer_sizes=(100, 50, 25), random_state=42)\n",
        "`\n",
        "- **Purpose:** Similar to the MLPClassifier, but with a specific architecture defined by the hidden layer sizes.\n",
        "- **Parameters:**\n",
        "  - `hidden_layer_sizes=(100, 50, 25)`: Three hidden layers with 100, 50, and 25 neurons, respectively. Specifies the size of each hidden layer.\n",
        "- **Explanation:**\n",
        "The third model has a specific architecture with three hidden layers and different neuron sizes.\n",
        "\n",
        "#### 4. MLPClassifier with Logistic Activation and lbfgs Solver:\n",
        "`\n",
        "MLPClassifier(activation='logistic', random_state=42, solver='lbfgs')\n",
        "`\n",
        "- **Purpose:** MLPClassifier with a logistic activation function and lbfgs solver.\n",
        "- **Parameters:**\n",
        "  - `activation='logistic'`: Specifies the logistic (sigmoid) activation function for hidden layers.\n",
        "  - `random_state=42`: Ensures reproducibility by initializing the random number generator.\n",
        "  - `solver='lbfgs'`: Optimization algorithm for weight optimization. lbfgs is suitable for small datasets.\n",
        "- **Explanation:**\n",
        "The fourth model uses a logistic activation function and lbfgs solver, suitable for small datasets.\n"
      ],
      "metadata": {
        "id": "r-6aPoj_0yER"
      }
    },
    {
      "cell_type": "markdown",
      "source": [
        "\n",
        "\n",
        "---\n",
        "\n"
      ],
      "metadata": {
        "id": "TaZOcHAS3EzK"
      }
    },
    {
      "cell_type": "markdown",
      "source": [
        "# Experiments"
      ],
      "metadata": {
        "id": "vF1qqxap3GTD"
      }
    },
    {
      "cell_type": "markdown",
      "metadata": {
        "id": "eB_cTxxLUony"
      },
      "source": [
        "**Experiment 1: Logistic regression on dataset**"
      ]
    },
    {
      "cell_type": "code",
      "execution_count": null,
      "metadata": {
        "colab": {
          "base_uri": "https://localhost:8080/",
          "height": 617
        },
        "id": "L8U4ayoKUoa5",
        "outputId": "15abe043-78ae-40ac-91dc-1b1d220d7ddb"
      },
      "outputs": [
        {
          "output_type": "stream",
          "name": "stdout",
          "text": [
            "\n",
            "Micro Averages for Logistic Regression on dataset:\n",
            "Average Precision (Micro): 0.79\n",
            "Average Recall (Micro): 0.79\n",
            "Average F1-score (Micro): 0.79\n",
            "\n",
            "Macro Averages for Logistic Regression on dataset:\n",
            "Average Precision (Macro): 0.71\n",
            "Average Recall (Macro): 0.68\n",
            "Average F1-score (Macro): 0.67\n",
            "\n",
            "Average Accuracy for Logistic Regression on dataset:\n",
            "Average Accuracy: 0.79\n"
          ]
        },
        {
          "output_type": "display_data",
          "data": {
            "text/plain": [
              "<Figure size 400x400 with 2 Axes>"
            ],
            "image/png": "[encoded data removed]"
          },
          "metadata": {}
        }
      ],
      "source": [
        "# 1. Logistic Regression Model on dataset\n",
        "lr_model1 = LogisticRegression(random_state=42, max_iter=1000)\n",
        "evaluate_model(lr_model1, X_tfidf_dataset, y_encoded_dataset, \"Logistic Regression on dataset\",1 )"
      ]
    },
    {
      "cell_type": "markdown",
      "metadata": {
        "id": "jZVEql9IUm_o"
      },
      "source": [
        "**Experiment 2: Multilayer Perceptron Model on dataset**"
      ]
    },
    {
      "cell_type": "code",
      "execution_count": null,
      "metadata": {
        "colab": {
          "base_uri": "https://localhost:8080/",
          "height": 617
        },
        "id": "O6HGFbyCUm0-",
        "outputId": "1d4a0db9-133c-4f09-f18f-62e9a445688c"
      },
      "outputs": [
        {
          "output_type": "stream",
          "name": "stdout",
          "text": [
            "\n",
            "Micro Averages for MLP on dataset:\n",
            "Average Precision (Micro): 0.76\n",
            "Average Recall (Micro): 0.76\n",
            "Average F1-score (Micro): 0.76\n",
            "\n",
            "Macro Averages for MLP on dataset:\n",
            "Average Precision (Macro): 0.68\n",
            "Average Recall (Macro): 0.67\n",
            "Average F1-score (Macro): 0.67\n",
            "\n",
            "Average Accuracy for MLP on dataset:\n",
            "Average Accuracy: 0.76\n"
          ]
        },
        {
          "output_type": "display_data",
          "data": {
            "text/plain": [
              "<Figure size 400x400 with 2 Axes>"
            ],
            "image/png": "[encoded data removed]"
          },
          "metadata": {}
        }
      ],
      "source": [
        "# 2. Multilayer Perceptron Model on dataset\n",
        "mlp_model2 = MLPClassifier(random_state=42, max_iter=500)\n",
        "evaluate_model(mlp_model2, X_tfidf_dataset, y_encoded_dataset, \"MLP on dataset\", 2)"
      ]
    },
    {
      "cell_type": "markdown",
      "metadata": {
        "id": "rmNVO8f5Umod"
      },
      "source": [
        "**Experiment 3: MLP with changed hidden layer size on dataset**"
      ]
    },
    {
      "cell_type": "code",
      "execution_count": null,
      "metadata": {
        "colab": {
          "base_uri": "https://localhost:8080/",
          "height": 617
        },
        "id": "yDciwPKDUmcV",
        "outputId": "eb411f59-9b4d-4551-e17e-562e21207572"
      },
      "outputs": [
        {
          "output_type": "stream",
          "name": "stdout",
          "text": [
            "\n",
            "Micro Averages for MLP with hidden_layer_sizes (100, 50, 25) on dataset:\n",
            "Average Precision (Micro): 0.76\n",
            "Average Recall (Micro): 0.76\n",
            "Average F1-score (Micro): 0.76\n",
            "\n",
            "Macro Averages for MLP with hidden_layer_sizes (100, 50, 25) on dataset:\n",
            "Average Precision (Macro): 0.69\n",
            "Average Recall (Macro): 0.69\n",
            "Average F1-score (Macro): 0.69\n",
            "\n",
            "Average Accuracy for MLP with hidden_layer_sizes (100, 50, 25) on dataset:\n",
            "Average Accuracy: 0.76\n"
          ]
        },
        {
          "output_type": "display_data",
          "data": {
            "text/plain": [
              "<Figure size 400x400 with 2 Axes>"
            ],
            "image/png": "[encoded data removed]"
          },
          "metadata": {}
        }
      ],
      "source": [
        "# 3. MLP with changed hidden layer size on dataset\n",
        "mlp_model_exp3 = MLPClassifier(hidden_layer_sizes=(100, 50, 25), random_state=42)\n",
        "evaluate_model(mlp_model_exp3, X_tfidf_dataset, y_encoded_dataset, \"MLP with hidden_layer_sizes (100, 50, 25) on dataset\",3)"
      ]
    },
    {
      "cell_type": "markdown",
      "metadata": {
        "id": "_D9Xbza0UmOM"
      },
      "source": [
        "**Experiment 4: MLP with logistic activation function on dataset**"
      ]
    },
    {
      "cell_type": "code",
      "execution_count": null,
      "metadata": {
        "colab": {
          "base_uri": "https://localhost:8080/",
          "height": 617
        },
        "id": "CuBzZUvqUl82",
        "outputId": "4275d9d4-3aab-47d5-e4c1-121fdcde461b"
      },
      "outputs": [
        {
          "output_type": "stream",
          "name": "stdout",
          "text": [
            "\n",
            "Micro Averages for MLP with logistic Activation Function on dataset:\n",
            "Average Precision (Micro): 0.76\n",
            "Average Recall (Micro): 0.76\n",
            "Average F1-score (Micro): 0.76\n",
            "\n",
            "Macro Averages for MLP with logistic Activation Function on dataset:\n",
            "Average Precision (Macro): 0.68\n",
            "Average Recall (Macro): 0.68\n",
            "Average F1-score (Macro): 0.68\n",
            "\n",
            "Average Accuracy for MLP with logistic Activation Function on dataset:\n",
            "Average Accuracy: 0.76\n"
          ]
        },
        {
          "output_type": "display_data",
          "data": {
            "text/plain": [
              "<Figure size 400x400 with 2 Axes>"
            ],
            "image/png": "[encoded data removed]"
          },
          "metadata": {}
        }
      ],
      "source": [
        " # 4. MLP with changed activation function on dataset\n",
        "mlp_model_exp4 = MLPClassifier(activation='logistic', random_state=42 , solver = 'lbfgs')\n",
        "evaluate_model(mlp_model_exp4, X_tfidf_dataset, y_encoded_dataset, \"MLP with logistic Activation Function on dataset\",4)"
      ]
    },
    {
      "cell_type": "markdown",
      "metadata": {
        "id": "8Smuql5ELEdI"
      },
      "source": [
        "**Experiment 5: Logistic Regression Model on dereived_dataset1**"
      ]
    },
    {
      "cell_type": "code",
      "execution_count": null,
      "metadata": {
        "colab": {
          "base_uri": "https://localhost:8080/",
          "height": 617
        },
        "id": "tcn3sjPx1r9R",
        "outputId": "4c120326-b232-4846-d83b-6b4f8deb53e1"
      },
      "outputs": [
        {
          "output_type": "stream",
          "name": "stdout",
          "text": [
            "\n",
            "Micro Averages for Logistic Regression on derived_dataset1:\n",
            "Average Precision (Micro): 0.68\n",
            "Average Recall (Micro): 0.68\n",
            "Average F1-score (Micro): 0.68\n",
            "\n",
            "Macro Averages for Logistic Regression on derived_dataset1:\n",
            "Average Precision (Macro): 0.58\n",
            "Average Recall (Macro): 0.57\n",
            "Average F1-score (Macro): 0.54\n",
            "\n",
            "Average Accuracy for Logistic Regression on derived_dataset1:\n",
            "Average Accuracy: 0.68\n"
          ]
        },
        {
          "output_type": "display_data",
          "data": {
            "text/plain": [
              "<Figure size 400x400 with 2 Axes>"
            ],
            "image/png": "[encoded data removed]"
          },
          "metadata": {}
        }
      ],
      "source": [
        "# 5. Logistic Regression Model on dereived_dataset1\n",
        "lr_model5 =LogisticRegression(random_state=42, max_iter=1000)\n",
        "evaluate_model(lr_model5, X_tfidf_derived_dataset1, y_encoded_derived_dataset1, \"Logistic Regression on derived_dataset1\", 5)"
      ]
    },
    {
      "cell_type": "markdown",
      "metadata": {
        "id": "oIc1_18hLhra"
      },
      "source": [
        "**Experiment 6: Multilayer Perceptron Model on dereived_dataset1**"
      ]
    },
    {
      "cell_type": "code",
      "execution_count": null,
      "metadata": {
        "colab": {
          "base_uri": "https://localhost:8080/",
          "height": 617
        },
        "id": "AVQWQQHPCyYA",
        "outputId": "a7ca97d3-c855-47c0-cbea-9f00a2ac6570"
      },
      "outputs": [
        {
          "output_type": "stream",
          "name": "stdout",
          "text": [
            "\n",
            "Micro Averages for MLP on derived_dataset1:\n",
            "Average Precision (Micro): 0.63\n",
            "Average Recall (Micro): 0.63\n",
            "Average F1-score (Micro): 0.63\n",
            "\n",
            "Macro Averages for MLP on derived_dataset1:\n",
            "Average Precision (Macro): 0.55\n",
            "Average Recall (Macro): 0.55\n",
            "Average F1-score (Macro): 0.55\n",
            "\n",
            "Average Accuracy for MLP on derived_dataset1:\n",
            "Average Accuracy: 0.63\n"
          ]
        },
        {
          "output_type": "display_data",
          "data": {
            "text/plain": [
              "<Figure size 400x400 with 2 Axes>"
            ],
            "image/png": "[encoded data removed]"
          },
          "metadata": {}
        }
      ],
      "source": [
        " # 6. Multilayer Perceptron Model on dereived_dataset1\n",
        "mlp_model6 = MLPClassifier(random_state=42, max_iter=500)\n",
        "evaluate_model(mlp_model6, X_tfidf_derived_dataset1, y_encoded_derived_dataset1, \"MLP on derived_dataset1\",6)"
      ]
    },
    {
      "cell_type": "markdown",
      "metadata": {
        "id": "g3YR8qhFLv8K"
      },
      "source": [
        "**Experiment 7: MLP with changed hidden layer size on dereived_dataset1**"
      ]
    },
    {
      "cell_type": "code",
      "execution_count": null,
      "metadata": {
        "id": "8MYZ6X2sEX_O",
        "colab": {
          "base_uri": "https://localhost:8080/",
          "height": 617
        },
        "outputId": "3973460d-f256-4eb9-de0a-4599dd63e97e"
      },
      "outputs": [
        {
          "output_type": "stream",
          "name": "stdout",
          "text": [
            "\n",
            "Micro Averages for MLP with hidden_layer_sizes (100, 50, 25) on derived_dataset1:\n",
            "Average Precision (Micro): 0.63\n",
            "Average Recall (Micro): 0.63\n",
            "Average F1-score (Micro): 0.63\n",
            "\n",
            "Macro Averages for MLP with hidden_layer_sizes (100, 50, 25) on derived_dataset1:\n",
            "Average Precision (Macro): 0.54\n",
            "Average Recall (Macro): 0.54\n",
            "Average F1-score (Macro): 0.54\n",
            "\n",
            "Average Accuracy for MLP with hidden_layer_sizes (100, 50, 25) on derived_dataset1:\n",
            "Average Accuracy: 0.63\n"
          ]
        },
        {
          "output_type": "display_data",
          "data": {
            "text/plain": [
              "<Figure size 400x400 with 2 Axes>"
            ],
            "image/png": "[encoded data removed]"
          },
          "metadata": {}
        }
      ],
      "source": [
        "# 7. MLP with changed hidden layer size on dereived_dataset1\n",
        "mlp_model_exp7 = MLPClassifier(hidden_layer_sizes=(100, 50, 25), random_state=42)\n",
        "evaluate_model(mlp_model_exp7, X_tfidf_derived_dataset1, y_encoded_derived_dataset1, \"MLP with hidden_layer_sizes (100, 50, 25) on derived_dataset1\",7)"
      ]
    },
    {
      "cell_type": "markdown",
      "metadata": {
        "id": "FhVUZyKyL0E9"
      },
      "source": [
        "**Experiment 8: MLP with Logistic activation function on dereived_dataset1**"
      ]
    },
    {
      "cell_type": "code",
      "execution_count": null,
      "metadata": {
        "id": "ot1U3uNlFFdm",
        "colab": {
          "base_uri": "https://localhost:8080/",
          "height": 617
        },
        "outputId": "e938aa18-810f-4e01-dfe4-948373e2cd19"
      },
      "outputs": [
        {
          "output_type": "stream",
          "name": "stdout",
          "text": [
            "\n",
            "Micro Averages for MLP with 'logistic' Activation Function on derived_dataset1:\n",
            "Average Precision (Micro): 0.64\n",
            "Average Recall (Micro): 0.64\n",
            "Average F1-score (Micro): 0.64\n",
            "\n",
            "Macro Averages for MLP with 'logistic' Activation Function on derived_dataset1:\n",
            "Average Precision (Macro): 0.55\n",
            "Average Recall (Macro): 0.55\n",
            "Average F1-score (Macro): 0.55\n",
            "\n",
            "Average Accuracy for MLP with 'logistic' Activation Function on derived_dataset1:\n",
            "Average Accuracy: 0.64\n"
          ]
        },
        {
          "output_type": "display_data",
          "data": {
            "text/plain": [
              "<Figure size 400x400 with 2 Axes>"
            ],
            "image/png": "[encoded data removed]"
          },
          "metadata": {}
        }
      ],
      "source": [
        "# # 8. MLP with changed activation function on dereived_dataset1\n",
        "mlp_model_exp8 = MLPClassifier(activation='logistic', random_state=42 , solver = 'lbfgs')\n",
        "evaluate_model(mlp_model_exp8, X_tfidf_derived_dataset1, y_encoded_derived_dataset1, \"MLP with 'logistic' Activation Function on derived_dataset1\",8)"
      ]
    },
    {
      "cell_type": "markdown",
      "metadata": {
        "id": "cIYa6f6aPBha"
      },
      "source": [
        "**Experiment 9: Logistic regression on dereived_dataset2**"
      ]
    },
    {
      "cell_type": "code",
      "execution_count": null,
      "metadata": {
        "id": "rUPqaQfnMGM8",
        "colab": {
          "base_uri": "https://localhost:8080/",
          "height": 617
        },
        "outputId": "9159f20f-6fb6-4729-f4aa-3ab8236c8859"
      },
      "outputs": [
        {
          "output_type": "stream",
          "name": "stdout",
          "text": [
            "\n",
            "Micro Averages for Logistic Regression on derived_dataset2:\n",
            "Average Precision (Micro): 0.78\n",
            "Average Recall (Micro): 0.78\n",
            "Average F1-score (Micro): 0.78\n",
            "\n",
            "Macro Averages for Logistic Regression on derived_dataset2:\n",
            "Average Precision (Macro): 0.70\n",
            "Average Recall (Macro): 0.67\n",
            "Average F1-score (Macro): 0.66\n",
            "\n",
            "Average Accuracy for Logistic Regression on derived_dataset2:\n",
            "Average Accuracy: 0.78\n"
          ]
        },
        {
          "output_type": "display_data",
          "data": {
            "text/plain": [
              "<Figure size 400x400 with 2 Axes>"
            ],
            "image/png": "[encoded data removed]"
          },
          "metadata": {}
        }
      ],
      "source": [
        "# # 9. Logistic Regression Model on dereived_dataset2\n",
        "lr_model9 = LogisticRegression(random_state=42, max_iter=1000)\n",
        "evaluate_model(lr_model9, X_tfidf_derived_dataset2, y_encoded_derived_dataset2, \"Logistic Regression on derived_dataset2\", 9)"
      ]
    },
    {
      "cell_type": "markdown",
      "metadata": {
        "id": "u9Bmqo6dPO1J"
      },
      "source": [
        "**Experiment 10. Multilayer Perceptron Model on dereived_dataset2**"
      ]
    },
    {
      "cell_type": "code",
      "execution_count": null,
      "metadata": {
        "id": "oCTkJ9fxPPH0",
        "colab": {
          "base_uri": "https://localhost:8080/",
          "height": 617
        },
        "outputId": "1be17025-ce19-41f2-d26a-234dad44125e"
      },
      "outputs": [
        {
          "output_type": "stream",
          "name": "stdout",
          "text": [
            "\n",
            "Micro Averages for MLP on derived_dataset2:\n",
            "Average Precision (Micro): 0.74\n",
            "Average Recall (Micro): 0.74\n",
            "Average F1-score (Micro): 0.74\n",
            "\n",
            "Macro Averages for MLP on derived_dataset2:\n",
            "Average Precision (Macro): 0.66\n",
            "Average Recall (Macro): 0.65\n",
            "Average F1-score (Macro): 0.65\n",
            "\n",
            "Average Accuracy for MLP on derived_dataset2:\n",
            "Average Accuracy: 0.74\n"
          ]
        },
        {
          "output_type": "display_data",
          "data": {
            "text/plain": [
              "<Figure size 400x400 with 2 Axes>"
            ],
            "image/png": "[encoded data removed]"
          },
          "metadata": {}
        }
      ],
      "source": [
        "# 10. Multilayer Perceptron Model on dereived_dataset2\n",
        "mlp_model10 = MLPClassifier(random_state=42, max_iter=500)\n",
        "evaluate_model(mlp_model10, X_tfidf_derived_dataset2, y_encoded_derived_dataset2, \"MLP on derived_dataset2\",10)"
      ]
    },
    {
      "cell_type": "markdown",
      "metadata": {
        "id": "Bii77GV-PPfz"
      },
      "source": [
        "**Experiment 11. MLP with changed hidden layer size on dereived_dataset2**"
      ]
    },
    {
      "cell_type": "code",
      "execution_count": null,
      "metadata": {
        "id": "58HHMk82PPxT",
        "colab": {
          "base_uri": "https://localhost:8080/",
          "height": 617
        },
        "outputId": "f056ce1f-c39c-4152-9a4b-ce992a0ddcf5"
      },
      "outputs": [
        {
          "output_type": "stream",
          "name": "stdout",
          "text": [
            "\n",
            "Micro Averages for MLP with hidden_layer_sizes (100, 50, 25) on derived_dataset2:\n",
            "Average Precision (Micro): 0.73\n",
            "Average Recall (Micro): 0.73\n",
            "Average F1-score (Micro): 0.73\n",
            "\n",
            "Macro Averages for MLP with hidden_layer_sizes (100, 50, 25) on derived_dataset2:\n",
            "Average Precision (Macro): 0.66\n",
            "Average Recall (Macro): 0.65\n",
            "Average F1-score (Macro): 0.66\n",
            "\n",
            "Average Accuracy for MLP with hidden_layer_sizes (100, 50, 25) on derived_dataset2:\n",
            "Average Accuracy: 0.73\n"
          ]
        },
        {
          "output_type": "display_data",
          "data": {
            "text/plain": [
              "<Figure size 400x400 with 2 Axes>"
            ],
            "image/png": "[encoded data removed]"
          },
          "metadata": {}
        }
      ],
      "source": [
        "# # 11. MLP with changed hidden layer size on dereived_dataset2\n",
        "mlp_model_exp11 = MLPClassifier(hidden_layer_sizes=(100, 50, 25), random_state=42)\n",
        "evaluate_model(mlp_model_exp11, X_tfidf_derived_dataset2, y_encoded_derived_dataset2, \"MLP with hidden_layer_sizes (100, 50, 25) on derived_dataset2\",11)"
      ]
    },
    {
      "cell_type": "markdown",
      "metadata": {
        "id": "8lLaSNoHPQEA"
      },
      "source": [
        "**Experiment 12. MLP with logistic activation function on dereived_dataset2**"
      ]
    },
    {
      "cell_type": "code",
      "execution_count": null,
      "metadata": {
        "id": "A8XwnDsOPQjv",
        "colab": {
          "base_uri": "https://localhost:8080/"
        },
        "outputId": "450b4fc5-c265-476b-b51a-43b06afbc6e2"
      },
      "outputs": [
        {
          "output_type": "stream",
          "name": "stdout",
          "text": [
            "\n",
            "Micro Averages for MLP with logistic Activation Function on derived_dataset2:\n",
            "Average Precision (Micro): 0.73\n",
            "Average Recall (Micro): 0.73\n",
            "Average F1-score (Micro): 0.73\n",
            "\n",
            "Macro Averages for MLP with logistic Activation Function on derived_dataset2:\n",
            "Average Precision (Macro): 0.65\n",
            "Average Recall (Macro): 0.65\n",
            "Average F1-score (Macro): 0.65\n",
            "\n",
            "Average Accuracy for MLP with logistic Activation Function on derived_dataset2:\n",
            "Average Accuracy: 0.73\n"
          ]
        },
        {
          "output_type": "display_data",
          "data": {
            "text/plain": [
              "<Figure size 400x400 with 2 Axes>"
            ],
            "image/png": "[encoded data removed]"
          },
          "metadata": {}
        }
      ],
      "source": [
        "# # 12. MLP with changed activation function on dereived_dataset2\n",
        "mlp_model_exp12 = MLPClassifier(activation='logistic', random_state=42 , solver = 'lbfgs')\n",
        "evaluate_model(mlp_model_exp12, X_tfidf_derived_dataset2, y_encoded_derived_dataset2, \"MLP with logistic Activation Function on derived_dataset2\",12)"
      ]
    },
    {
      "cell_type": "markdown",
      "metadata": {
        "id": "w4ZWJAeqxsE8"
      },
      "source": [
        "\n",
        "\n",
        "---\n",
        "\n"
      ]
    },
    {
      "cell_type": "markdown",
      "metadata": {
        "id": "rV4K1p6Pxo4E"
      },
      "source": [
        "# Quantitative analysis"
      ]
    },
    {
      "cell_type": "code",
      "execution_count": null,
      "metadata": {
        "id": "PhdDfMH4xoqM",
        "colab": {
          "base_uri": "https://localhost:8080/"
        },
        "outputId": "bb5301fe-7355-4d69-ba21-1258a0766f69"
      },
      "outputs": [
        {
          "output_type": "stream",
          "name": "stdout",
          "text": [
            "+---------------+--------------------+\n",
            "|  Experiment # |      Accuracy      |\n",
            "+---------------+--------------------+\n",
            "|  Experiment 1 | 0.7893321950215437 |\n",
            "|  Experiment 2 | 0.7634058661737667 |\n",
            "|  Experiment 3 | 0.7567151070828136 |\n",
            "|  Experiment 4 | 0.7588519973642004 |\n",
            "|  Experiment 5 | 0.6819081296736057 |\n",
            "|  Experiment 6 | 0.6342353141892498 |\n",
            "|  Experiment 7 | 0.6268008189213943 |\n",
            "|  Experiment 8 | 0.6386028949589642 |\n",
            "|  Experiment 9 | 0.7790175568016201 |\n",
            "| Experiment 10 | 0.7363641920818258 |\n",
            "| Experiment 11 | 0.7339481805660891 |\n",
            "| Experiment 12 | 0.7332977610899059 |\n",
            "+---------------+--------------------+\n"
          ]
        }
      ],
      "source": [
        "# Create a PrettyTable object to display the classification report in a tabular format\n",
        "table = PrettyTable()\n",
        "\n",
        "# Define column names and alignment for the table\n",
        "table.field_names = [\"Experiment #\", 'Accuracy' ]\n",
        "table.align[\"Experiment_type\"] = \"c\"\n",
        "\n",
        "# Add data to the table from the classification report\n",
        "for Experiment_type, metrics in a.items():\n",
        "  table.add_row([\n",
        "      Experiment_type, metrics\n",
        "\n",
        "  ])\n",
        "\n",
        "# Print the formatted classification report table\n",
        "print(table)"
      ]
    },
    {
      "cell_type": "markdown",
      "metadata": {
        "id": "JctoO3e8wpM2"
      },
      "source": [
        "\n",
        "\n",
        "---\n",
        "\n"
      ]
    },
    {
      "cell_type": "markdown",
      "metadata": {
        "id": "66TkPB60rztU"
      },
      "source": [
        "# Conclusion\n",
        "\n",
        "In this empirical study, we embarked on a comprehensive exploration of text classification using various models and datasets. The goal was to evaluate the performance of different models on original and derived datasets, shedding light on the impact of altering certain parameters on model outcomes. Here are the key findings and conclusions from our study:\n",
        "\n",
        "1. Dataset Derivation:\n",
        "\n",
        "  - `Original Dataset`: We started with the raw textual data, maintaining the original form for baseline comparison.\n",
        "  \n",
        "  - `Derived-Dataset-1`:This dataset was crafted to include lemmatized verbs, providing insight into the role of these parts of speech in classification.\n",
        "  \n",
        "  - `Derived-Dataset-2`: This dataset featured named entities along with selected parts of speech. We chose entities like organizations, money, and dates, aiming to capture specific information for more nuanced classification.\n",
        "\n",
        "2. Model Selection and Training:\n",
        "\n",
        "  - `Logistic Regression`:\n",
        "A traditional yet effective model that served as a baseline for comparison.\n",
        "\n",
        "  - `Multilayer Perceptron (MLP)`:\n",
        "A more complex model capable of capturing intricate patterns in the data.\n",
        "\n",
        "3. Model Variations:\n",
        "  \n",
        "    We experimented with the MLP model by altering its hidden layer size, model solver (using `lbfgs`), max_iteration, random_state and activation function (using `logistic`) to gauge the impact on performance.\n",
        "\n",
        "4. Evaluation Metrics:\n",
        "\n",
        "  Employed a 4-fold cross-validation technique for robust evaluation. Precision and recall measures were used, comparing micro and macro averages to account for potential class imbalances.\n",
        "\n",
        "5. Results Analysis:\n",
        "\n",
        "  Quantitative analysis of 12 results (4 models × 3 datasets) revealed variations in performance across different configurations. Changes in MLP parameters influenced model outcomes, highlighting the importance of parameter tuning.\n",
        "\n",
        "6. Recommendations:\n",
        "\n",
        "  The choice of the model and dataset should align with the specific task requirements and characteristics of the data. Further experimentation with hyperparameter tuning such as changing the solver, learning rate, activation function, hindder layers  and additional feature engineering could lead to improved results.\n",
        "\n",
        "7. Overall Reflection:\n",
        "\n",
        "  This empirical study provided valuable insights into the challenges and nuances of text classification. The iterative process of model selection, parameter tuning, and dataset derivation contributed to a deeper understanding of the underlying dynamics.\n",
        "\n",
        "In conclusion, our study lays the groundwork for future exploration in text classification, emphasizing the need for thoughtful consideration of models, datasets, and parameters to achieve optimal results in real-world applications."
      ]
    },
    {
      "cell_type": "markdown",
      "metadata": {
        "id": "_BC3EWGcmkFy"
      },
      "source": [
        "\n",
        "\n",
        "---\n",
        "\n"
      ]
    },
    {
      "cell_type": "markdown",
      "metadata": {
        "id": "bkCRWmA2l91y"
      },
      "source": [
        "## Resources\n",
        "\n",
        "- Airline passenger reviews. (2023, July 14). Kaggle. https://www.kaggle.com/datasets/malharkhatu/airline-passenger-reviews\n",
        "\n",
        "- Logistic Regression using Python (scikit-learn) - Towards Data Science. Galarnyk, M. (2022, April 27)  Medium.\n",
        "https://towardsdatascience.com/logistic-regression-using-python-sklearn-numpy-mnist-handwriting-recognition-matplotlib-a6b31e2b166a\n",
        "\n",
        "- GeeksforGeeks. (2020, August 18). Creating Tables with PrettyTable Library   Python.\n",
        " https://www.geeksforgeeks.org/creating-tables-with-prettytable-library-python/ -\n",
        "\n",
        "- Navlani, A. (2019, December 16). Understanding logistic Regression in Python Tutorial.\n",
        "https://www.datacamp.com/tutorial/understanding-logistic-regression-python\n",
        "\n",
        "- sklearn.neural_network.MLPClassifier. (n.d.). Scikit-learn.\n",
        "https://scikit-learn.org/stable/modules/generated/sklearn.neural_network.MLPClassifier.html\n",
        "\n",
        "- Working with text data. (n.d.). Scikit-learn.\n",
        "https://scikit-learn.org/stable/tutorial/text_analytics/working_with_text_data.html"
      ]
    },
    {
      "cell_type": "markdown",
      "metadata": {
        "id": "mBxpQIE6mlPB"
      },
      "source": [
        "\n",
        "\n",
        "---\n",
        "\n"
      ]
    }
  ],
  "metadata": {
    "colab": {
      "provenance": []
    },
    "kernelspec": {
      "display_name": "Python 3",
      "language": "python",
      "name": "python3"
    },
    "language_info": {
      "codemirror_mode": {
        "name": "ipython",
        "version": 3
      },
      "file_extension": ".py",
      "mimetype": "text/x-python",
      "name": "python",
      "nbconvert_exporter": "python",
      "pygments_lexer": "ipython3",
      "version": "3.8.10"
    }
  },
  "nbformat": 4,
  "nbformat_minor": 0
}